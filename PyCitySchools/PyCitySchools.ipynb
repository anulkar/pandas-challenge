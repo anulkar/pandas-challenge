{
 "nbformat": 4,
 "nbformat_minor": 2,
 "metadata": {
  "language_info": {
   "name": "python",
   "codemirror_mode": {
    "name": "ipython",
    "version": 3
   },
   "version": "3.7.5-final"
  },
  "orig_nbformat": 2,
  "file_extension": ".py",
  "mimetype": "text/x-python",
  "name": "python",
  "npconvert_exporter": "python",
  "pygments_lexer": "ipython3",
  "version": 3,
  "kernelspec": {
   "name": "python37564bitpythondatacondac30bd6fcf4694af7948ebff9c485f105",
   "display_name": "Python 3.7.5 64-bit ('PythonData': conda)"
  }
 },
 "cells": [
  {
   "cell_type": "code",
   "execution_count": 2,
   "metadata": {},
   "outputs": [],
   "source": [
    "# Dependencies and Setup\n",
    "import pandas as pd\n",
    "\n",
    "# File to Load\n",
    "school_data_to_load = \"Resources/schools_complete.csv\"\n",
    "student_data_to_load = \"Resources/students_complete.csv\"\n",
    "\n",
    "# Read School and Student Data File and store into Pandas Data Frames\n",
    "school_data = pd.read_csv(school_data_to_load)\n",
    "student_data = pd.read_csv(student_data_to_load)\n",
    "\n",
    "# Combine the data into a single dataset\n",
    "school_data_complete = pd.merge(student_data, school_data, how=\"left\", on=[\"school_name\", \"school_name\"])"
   ]
  },
  {
   "cell_type": "code",
   "execution_count": 3,
   "metadata": {},
   "outputs": [
    {
     "data": {
      "text/html": "<div>\n<style scoped>\n    .dataframe tbody tr th:only-of-type {\n        vertical-align: middle;\n    }\n\n    .dataframe tbody tr th {\n        vertical-align: top;\n    }\n\n    .dataframe thead th {\n        text-align: right;\n    }\n</style>\n<table border=\"1\" class=\"dataframe\">\n  <thead>\n    <tr style=\"text-align: right;\">\n      <th></th>\n      <th>Student ID</th>\n      <th>student_name</th>\n      <th>gender</th>\n      <th>grade</th>\n      <th>school_name</th>\n      <th>reading_score</th>\n      <th>math_score</th>\n      <th>School ID</th>\n      <th>type</th>\n      <th>size</th>\n      <th>budget</th>\n    </tr>\n  </thead>\n  <tbody>\n    <tr>\n      <th>0</th>\n      <td>0</td>\n      <td>Paul Bradley</td>\n      <td>M</td>\n      <td>9th</td>\n      <td>Huang High School</td>\n      <td>66</td>\n      <td>79</td>\n      <td>0</td>\n      <td>District</td>\n      <td>2917</td>\n      <td>1910635</td>\n    </tr>\n    <tr>\n      <th>1</th>\n      <td>1</td>\n      <td>Victor Smith</td>\n      <td>M</td>\n      <td>12th</td>\n      <td>Huang High School</td>\n      <td>94</td>\n      <td>61</td>\n      <td>0</td>\n      <td>District</td>\n      <td>2917</td>\n      <td>1910635</td>\n    </tr>\n    <tr>\n      <th>2</th>\n      <td>2</td>\n      <td>Kevin Rodriguez</td>\n      <td>M</td>\n      <td>12th</td>\n      <td>Huang High School</td>\n      <td>90</td>\n      <td>60</td>\n      <td>0</td>\n      <td>District</td>\n      <td>2917</td>\n      <td>1910635</td>\n    </tr>\n    <tr>\n      <th>3</th>\n      <td>3</td>\n      <td>Dr. Richard Scott</td>\n      <td>M</td>\n      <td>12th</td>\n      <td>Huang High School</td>\n      <td>67</td>\n      <td>58</td>\n      <td>0</td>\n      <td>District</td>\n      <td>2917</td>\n      <td>1910635</td>\n    </tr>\n    <tr>\n      <th>4</th>\n      <td>4</td>\n      <td>Bonnie Ray</td>\n      <td>F</td>\n      <td>9th</td>\n      <td>Huang High School</td>\n      <td>97</td>\n      <td>84</td>\n      <td>0</td>\n      <td>District</td>\n      <td>2917</td>\n      <td>1910635</td>\n    </tr>\n  </tbody>\n</table>\n</div>",
      "text/plain": "   Student ID       student_name gender grade        school_name  \\\n0           0       Paul Bradley      M   9th  Huang High School   \n1           1       Victor Smith      M  12th  Huang High School   \n2           2    Kevin Rodriguez      M  12th  Huang High School   \n3           3  Dr. Richard Scott      M  12th  Huang High School   \n4           4         Bonnie Ray      F   9th  Huang High School   \n\n   reading_score  math_score  School ID      type  size   budget  \n0             66          79          0  District  2917  1910635  \n1             94          61          0  District  2917  1910635  \n2             90          60          0  District  2917  1910635  \n3             67          58          0  District  2917  1910635  \n4             97          84          0  District  2917  1910635  "
     },
     "execution_count": 3,
     "metadata": {},
     "output_type": "execute_result"
    }
   ],
   "source": [
    "school_data_complete.head()"
   ]
  },
  {
   "cell_type": "code",
   "execution_count": 30,
   "metadata": {},
   "outputs": [
    {
     "name": "stdout",
     "output_type": "stream",
     "text": "SCHOOL DISTRICT SUMMARY\n___________________________________________________________________________________________________________________________________________________\n"
    },
    {
     "data": {
      "text/html": "<div>\n<style scoped>\n    .dataframe tbody tr th:only-of-type {\n        vertical-align: middle;\n    }\n\n    .dataframe tbody tr th {\n        vertical-align: top;\n    }\n\n    .dataframe thead th {\n        text-align: right;\n    }\n</style>\n<table border=\"1\" class=\"dataframe\">\n  <thead>\n    <tr style=\"text-align: right;\">\n      <th></th>\n      <th>Total Schools</th>\n      <th>Total Students</th>\n      <th>Total Budget</th>\n      <th>Average Math Score</th>\n      <th>Average Reading Score</th>\n      <th>% Passing Math</th>\n      <th>% Passing Reading</th>\n      <th>Overall Passing Rate</th>\n    </tr>\n  </thead>\n  <tbody>\n    <tr>\n      <th>0</th>\n      <td>15</td>\n      <td>39,170</td>\n      <td>$24,649,428.00</td>\n      <td>78.99</td>\n      <td>81.88</td>\n      <td>74.98%</td>\n      <td>85.81%</td>\n      <td>80.43</td>\n    </tr>\n  </tbody>\n</table>\n</div>",
      "text/plain": "   Total Schools Total Students    Total Budget Average Math Score  \\\n0             15         39,170  $24,649,428.00              78.99   \n\n  Average Reading Score % Passing Math % Passing Reading Overall Passing Rate  \n0                 81.88         74.98%            85.81%                80.43  "
     },
     "execution_count": 30,
     "metadata": {},
     "output_type": "execute_result"
    }
   ],
   "source": [
    "## SCHOOL DISTRICT SUMMARY\n",
    "## -----------------------\n",
    "\n",
    "# Calculate the total number of schools\n",
    "total_schools = school_data['School ID'].count()\n",
    "\n",
    "# Calculate the total number of students\n",
    "total_students = student_data['Student ID'].count()\n",
    "\n",
    "# Calculate the total budget\n",
    "total_budget = school_data['budget'].sum()\n",
    "\n",
    "# Calculate the average math score\n",
    "average_math_score = student_data['math_score'].mean()\n",
    " \n",
    "# Calculate the average reading score\n",
    "average_reading_score = student_data['reading_score'].mean()\n",
    "\n",
    "# Calculate the overall passing rate (overall average score), i.e. (avg. math score + avg. reading score)/2\n",
    "overall_passing_rate = (average_math_score + average_reading_score) / 2\n",
    "\n",
    "# Calculate the percentage of students with a passing math score (70 or greater)\n",
    "passing_math_score = student_data[student_data['math_score'] >= 70]\n",
    "percent_passing_math = passing_math_score['math_score'].count() / total_students\n",
    "\n",
    "# Calculate the percentage of students with a passing reading score (70 or greater)\n",
    "passing_reading_score = student_data[student_data['reading_score'] >= 70]\n",
    "percent_passing_reading = passing_reading_score['reading_score'].count() / total_students\n",
    "\n",
    "# Create a dataframe to hold the above results\n",
    "school_district_summary = pd.DataFrame([(total_schools, total_students, total_budget, average_math_score, average_reading_score, percent_passing_math, percent_passing_reading, overall_passing_rate)], columns=['Total Schools','Total Students','Total Budget','Average Math Score','Average Reading Score', '% Passing Math','% Passing Reading', 'Overall Passing Rate'])\n",
    "\n",
    "# Round the percentage column to two decimal points in the summary data frame\n",
    "school_district_summary['% Passing Math'] = school_district_summary['% Passing Math'].map(\"{:.2%}\".format)\n",
    "school_district_summary['% Passing Reading'] = school_district_summary['% Passing Reading'].map(\"{:.2%}\".format)\n",
    "\n",
    "# Format the remaining stats to display the numbers cleanly\n",
    "school_district_summary['Total Students'] = school_district_summary['Total Students'].map(\"{:,}\".format)\n",
    "school_district_summary['Total Budget'] = school_district_summary['Total Budget'].map(\"${:,.2f}\".format)\n",
    "school_district_summary['Average Math Score'] = school_district_summary['Average Math Score'].map(\"{:.2f}\".format)\n",
    "school_district_summary['Average Reading Score'] = school_district_summary['Average Reading Score'].map(\"{:.2f}\".format)\n",
    "school_district_summary['Overall Passing Rate'] = school_district_summary['Overall Passing Rate'].map(\"{:.2f}\".format)\n",
    "\n",
    "# Display Purchase Analysis Summary data frame \n",
    "print(f\"SCHOOL DISTRICT SUMMARY\")\n",
    "print(f\"_\" * 147)\n",
    "school_district_summary"
   ]
  },
  {
   "cell_type": "code",
   "execution_count": null,
   "metadata": {},
   "outputs": [],
   "source": []
  }
 ]
}