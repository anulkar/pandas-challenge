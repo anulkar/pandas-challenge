{
 "nbformat": 4,
 "nbformat_minor": 2,
 "metadata": {
  "language_info": {
   "name": "python",
   "codemirror_mode": {
    "name": "ipython",
    "version": 3
   },
   "version": "3.7.5-final"
  },
  "orig_nbformat": 2,
  "file_extension": ".py",
  "mimetype": "text/x-python",
  "name": "python",
  "npconvert_exporter": "python",
  "pygments_lexer": "ipython3",
  "version": 3,
  "kernelspec": {
   "name": "python37564bitpythondatacondac30bd6fcf4694af7948ebff9c485f105",
   "display_name": "Python 3.7.5 64-bit ('PythonData': conda)"
  }
 },
 "cells": [
  {
   "cell_type": "code",
   "execution_count": 451,
   "metadata": {},
   "outputs": [],
   "source": [
    "# Dependencies and Setup\n",
    "import pandas as pd\n",
    "\n",
    "# File to Load\n",
    "school_data_to_load = \"Resources/schools_complete.csv\"\n",
    "student_data_to_load = \"Resources/students_complete.csv\"\n",
    "\n",
    "# Read School and Student Data File and store into Pandas Data Frames\n",
    "school_data = pd.read_csv(school_data_to_load)\n",
    "student_data = pd.read_csv(student_data_to_load)\n",
    "\n",
    "# Rename columns in both data frames for consistency and clarity\n",
    "school_data = school_data.rename(columns = {'school_name':'School Name', 'type':'School Type', 'size':'School Size', 'budget':'School Budget'})\n",
    "student_data = student_data.rename(columns = {'student_name':'Student Name', 'gender':'Gender', 'grade':'Grade', 'school_name':'School Name', 'math_score':'Math Score', 'reading_score':'Reading Score'})\n",
    "\n",
    "# Combine the data into a single dataset\n",
    "school_data_complete = pd.merge(student_data, school_data, how='left', on=['School Name', 'School Name'])"
   ]
  },
  {
   "cell_type": "code",
   "execution_count": 452,
   "metadata": {},
   "outputs": [
    {
     "data": {
      "text/html": "<div>\n<style scoped>\n    .dataframe tbody tr th:only-of-type {\n        vertical-align: middle;\n    }\n\n    .dataframe tbody tr th {\n        vertical-align: top;\n    }\n\n    .dataframe thead th {\n        text-align: right;\n    }\n</style>\n<table border=\"1\" class=\"dataframe\">\n  <thead>\n    <tr style=\"text-align: right;\">\n      <th></th>\n      <th>Student ID</th>\n      <th>Student Name</th>\n      <th>Gender</th>\n      <th>Grade</th>\n      <th>School Name</th>\n      <th>Reading Score</th>\n      <th>Math Score</th>\n      <th>School ID</th>\n      <th>School Type</th>\n      <th>School Size</th>\n      <th>School Budget</th>\n    </tr>\n  </thead>\n  <tbody>\n    <tr>\n      <th>0</th>\n      <td>0</td>\n      <td>Paul Bradley</td>\n      <td>M</td>\n      <td>9th</td>\n      <td>Huang High School</td>\n      <td>66</td>\n      <td>79</td>\n      <td>0</td>\n      <td>District</td>\n      <td>2917</td>\n      <td>1910635</td>\n    </tr>\n    <tr>\n      <th>1</th>\n      <td>1</td>\n      <td>Victor Smith</td>\n      <td>M</td>\n      <td>12th</td>\n      <td>Huang High School</td>\n      <td>94</td>\n      <td>61</td>\n      <td>0</td>\n      <td>District</td>\n      <td>2917</td>\n      <td>1910635</td>\n    </tr>\n    <tr>\n      <th>2</th>\n      <td>2</td>\n      <td>Kevin Rodriguez</td>\n      <td>M</td>\n      <td>12th</td>\n      <td>Huang High School</td>\n      <td>90</td>\n      <td>60</td>\n      <td>0</td>\n      <td>District</td>\n      <td>2917</td>\n      <td>1910635</td>\n    </tr>\n    <tr>\n      <th>3</th>\n      <td>3</td>\n      <td>Dr. Richard Scott</td>\n      <td>M</td>\n      <td>12th</td>\n      <td>Huang High School</td>\n      <td>67</td>\n      <td>58</td>\n      <td>0</td>\n      <td>District</td>\n      <td>2917</td>\n      <td>1910635</td>\n    </tr>\n    <tr>\n      <th>4</th>\n      <td>4</td>\n      <td>Bonnie Ray</td>\n      <td>F</td>\n      <td>9th</td>\n      <td>Huang High School</td>\n      <td>97</td>\n      <td>84</td>\n      <td>0</td>\n      <td>District</td>\n      <td>2917</td>\n      <td>1910635</td>\n    </tr>\n  </tbody>\n</table>\n</div>",
      "text/plain": "   Student ID       Student Name Gender Grade        School Name  \\\n0           0       Paul Bradley      M   9th  Huang High School   \n1           1       Victor Smith      M  12th  Huang High School   \n2           2    Kevin Rodriguez      M  12th  Huang High School   \n3           3  Dr. Richard Scott      M  12th  Huang High School   \n4           4         Bonnie Ray      F   9th  Huang High School   \n\n   Reading Score  Math Score  School ID School Type  School Size  \\\n0             66          79          0    District         2917   \n1             94          61          0    District         2917   \n2             90          60          0    District         2917   \n3             67          58          0    District         2917   \n4             97          84          0    District         2917   \n\n   School Budget  \n0        1910635  \n1        1910635  \n2        1910635  \n3        1910635  \n4        1910635  "
     },
     "execution_count": 452,
     "metadata": {},
     "output_type": "execute_result"
    }
   ],
   "source": [
    "school_data_complete.head()"
   ]
  },
  {
   "cell_type": "code",
   "execution_count": 453,
   "metadata": {},
   "outputs": [
    {
     "name": "stdout",
     "output_type": "stream",
     "text": "SCHOOL DISTRICT SUMMARY\n___________________________________________________________________________________________________________________________________________________\n"
    },
    {
     "data": {
      "text/html": "<div>\n<style scoped>\n    .dataframe tbody tr th:only-of-type {\n        vertical-align: middle;\n    }\n\n    .dataframe tbody tr th {\n        vertical-align: top;\n    }\n\n    .dataframe thead th {\n        text-align: right;\n    }\n</style>\n<table border=\"1\" class=\"dataframe\">\n  <thead>\n    <tr style=\"text-align: right;\">\n      <th></th>\n      <th>Total Schools</th>\n      <th>Total Students</th>\n      <th>Total Budget</th>\n      <th>Average Math Score</th>\n      <th>Average Reading Score</th>\n      <th>% Passing Math</th>\n      <th>% Passing Reading</th>\n      <th>Overall Passing Rate</th>\n    </tr>\n  </thead>\n  <tbody>\n    <tr>\n      <th>0</th>\n      <td>15</td>\n      <td>39170</td>\n      <td>$24,649,428.00</td>\n      <td>78.985371</td>\n      <td>81.87784</td>\n      <td>74.980853</td>\n      <td>85.805463</td>\n      <td>80.431606</td>\n    </tr>\n  </tbody>\n</table>\n</div>",
      "text/plain": "   Total Schools  Total Students    Total Budget  Average Math Score  \\\n0             15           39170  $24,649,428.00           78.985371   \n\n   Average Reading Score  % Passing Math  % Passing Reading  \\\n0               81.87784       74.980853          85.805463   \n\n   Overall Passing Rate  \n0             80.431606  "
     },
     "execution_count": 453,
     "metadata": {},
     "output_type": "execute_result"
    }
   ],
   "source": [
    "## SCHOOL DISTRICT SUMMARY\n",
    "## -----------------------\n",
    "## Generate high-level snapshot (in table form) of the district's key metrics\n",
    "\n",
    "# Calculate the total number of schools\n",
    "total_schools = school_data['School ID'].count()\n",
    "\n",
    "# Calculate the total number of students\n",
    "total_students = student_data['Student ID'].count()\n",
    "\n",
    "# Calculate the total budget\n",
    "total_budget = school_data['School Budget'].sum()\n",
    "\n",
    "# Calculate the average math score\n",
    "average_math_score = student_data['Math Score'].mean()\n",
    " \n",
    "# Calculate the average reading score\n",
    "average_reading_score = student_data['Reading Score'].mean()\n",
    "\n",
    "# Calculate the overall passing rate (overall average score), i.e. (avg. math score + avg. reading score)/2\n",
    "overall_passing_rate = (average_math_score + average_reading_score) / 2\n",
    "\n",
    "# Calculate the percentage of students with a passing math score (70 or greater)\n",
    "passing_math_score = student_data[student_data['Math Score'] >= 70]\n",
    "percent_passing_math = (passing_math_score['Math Score'].count() / total_students) * 100\n",
    "\n",
    "# Calculate the percentage of students with a passing reading score (70 or greater)\n",
    "passing_reading_score = student_data[student_data['Reading Score'] >= 70]\n",
    "percent_passing_reading = (passing_reading_score['Reading Score'].count() / total_students) * 100\n",
    "\n",
    "# Create a summary dataframe to hold the above results\n",
    "school_district_summary = pd.DataFrame([(total_schools, total_students, total_budget, average_math_score, average_reading_score, percent_passing_math, percent_passing_reading, overall_passing_rate)], columns=['Total Schools','Total Students','Total Budget','Average Math Score','Average Reading Score', '% Passing Math','% Passing Reading', 'Overall Passing Rate'])\n",
    "\n",
    "# Format the total budget column\n",
    "school_district_summary['Total Budget'] = school_district_summary['Total Budget'].map(\"${:,.2f}\".format)\n",
    "\n",
    "# Display School District Summary data frame \n",
    "print(f\"SCHOOL DISTRICT SUMMARY\")\n",
    "print(f\"_\" * 147)\n",
    "school_district_summary"
   ]
  },
  {
   "cell_type": "code",
   "execution_count": 454,
   "metadata": {},
   "outputs": [
    {
     "data": {
      "text/html": "<div>\n<style scoped>\n    .dataframe tbody tr th:only-of-type {\n        vertical-align: middle;\n    }\n\n    .dataframe tbody tr th {\n        vertical-align: top;\n    }\n\n    .dataframe thead th {\n        text-align: right;\n    }\n</style>\n<table border=\"1\" class=\"dataframe\">\n  <thead>\n    <tr style=\"text-align: right;\">\n      <th></th>\n      <th>School Type</th>\n      <th>Total Students</th>\n      <th>Total School Budget</th>\n      <th>Per Student Budget</th>\n      <th>Average Math Score</th>\n      <th>Average Reading Score</th>\n      <th>% Passing Math</th>\n      <th>% Passing Reading</th>\n      <th>% Overall Passing Rate</th>\n    </tr>\n    <tr>\n      <th>School Name</th>\n      <th></th>\n      <th></th>\n      <th></th>\n      <th></th>\n      <th></th>\n      <th></th>\n      <th></th>\n      <th></th>\n      <th></th>\n    </tr>\n  </thead>\n  <tbody>\n    <tr>\n      <th>Bailey High School</th>\n      <td>District</td>\n      <td>4976</td>\n      <td>$3,124,928.00</td>\n      <td>$628.00</td>\n      <td>77.048432</td>\n      <td>81.033963</td>\n      <td>66.680064</td>\n      <td>81.933280</td>\n      <td>74.306672</td>\n    </tr>\n    <tr>\n      <th>Cabrera High School</th>\n      <td>Charter</td>\n      <td>1858</td>\n      <td>$1,081,356.00</td>\n      <td>$582.00</td>\n      <td>83.061895</td>\n      <td>83.975780</td>\n      <td>94.133477</td>\n      <td>97.039828</td>\n      <td>95.586652</td>\n    </tr>\n    <tr>\n      <th>Figueroa High School</th>\n      <td>District</td>\n      <td>2949</td>\n      <td>$1,884,411.00</td>\n      <td>$639.00</td>\n      <td>76.711767</td>\n      <td>81.158020</td>\n      <td>65.988471</td>\n      <td>80.739234</td>\n      <td>73.363852</td>\n    </tr>\n    <tr>\n      <th>Ford High School</th>\n      <td>District</td>\n      <td>2739</td>\n      <td>$1,763,916.00</td>\n      <td>$644.00</td>\n      <td>77.102592</td>\n      <td>80.746258</td>\n      <td>68.309602</td>\n      <td>79.299014</td>\n      <td>73.804308</td>\n    </tr>\n    <tr>\n      <th>Griffin High School</th>\n      <td>Charter</td>\n      <td>1468</td>\n      <td>$917,500.00</td>\n      <td>$625.00</td>\n      <td>83.351499</td>\n      <td>83.816757</td>\n      <td>93.392371</td>\n      <td>97.138965</td>\n      <td>95.265668</td>\n    </tr>\n    <tr>\n      <th>Hernandez High School</th>\n      <td>District</td>\n      <td>4635</td>\n      <td>$3,022,020.00</td>\n      <td>$652.00</td>\n      <td>77.289752</td>\n      <td>80.934412</td>\n      <td>66.752967</td>\n      <td>80.862999</td>\n      <td>73.807983</td>\n    </tr>\n    <tr>\n      <th>Holden High School</th>\n      <td>Charter</td>\n      <td>427</td>\n      <td>$248,087.00</td>\n      <td>$581.00</td>\n      <td>83.803279</td>\n      <td>83.814988</td>\n      <td>92.505855</td>\n      <td>96.252927</td>\n      <td>94.379391</td>\n    </tr>\n    <tr>\n      <th>Huang High School</th>\n      <td>District</td>\n      <td>2917</td>\n      <td>$1,910,635.00</td>\n      <td>$655.00</td>\n      <td>76.629414</td>\n      <td>81.182722</td>\n      <td>65.683922</td>\n      <td>81.316421</td>\n      <td>73.500171</td>\n    </tr>\n    <tr>\n      <th>Johnson High School</th>\n      <td>District</td>\n      <td>4761</td>\n      <td>$3,094,650.00</td>\n      <td>$650.00</td>\n      <td>77.072464</td>\n      <td>80.966394</td>\n      <td>66.057551</td>\n      <td>81.222432</td>\n      <td>73.639992</td>\n    </tr>\n    <tr>\n      <th>Pena High School</th>\n      <td>Charter</td>\n      <td>962</td>\n      <td>$585,858.00</td>\n      <td>$609.00</td>\n      <td>83.839917</td>\n      <td>84.044699</td>\n      <td>94.594595</td>\n      <td>95.945946</td>\n      <td>95.270270</td>\n    </tr>\n    <tr>\n      <th>Rodriguez High School</th>\n      <td>District</td>\n      <td>3999</td>\n      <td>$2,547,363.00</td>\n      <td>$637.00</td>\n      <td>76.842711</td>\n      <td>80.744686</td>\n      <td>66.366592</td>\n      <td>80.220055</td>\n      <td>73.293323</td>\n    </tr>\n    <tr>\n      <th>Shelton High School</th>\n      <td>Charter</td>\n      <td>1761</td>\n      <td>$1,056,600.00</td>\n      <td>$600.00</td>\n      <td>83.359455</td>\n      <td>83.725724</td>\n      <td>93.867121</td>\n      <td>95.854628</td>\n      <td>94.860875</td>\n    </tr>\n    <tr>\n      <th>Thomas High School</th>\n      <td>Charter</td>\n      <td>1635</td>\n      <td>$1,043,130.00</td>\n      <td>$638.00</td>\n      <td>83.418349</td>\n      <td>83.848930</td>\n      <td>93.272171</td>\n      <td>97.308869</td>\n      <td>95.290520</td>\n    </tr>\n    <tr>\n      <th>Wilson High School</th>\n      <td>Charter</td>\n      <td>2283</td>\n      <td>$1,319,574.00</td>\n      <td>$578.00</td>\n      <td>83.274201</td>\n      <td>83.989488</td>\n      <td>93.867718</td>\n      <td>96.539641</td>\n      <td>95.203679</td>\n    </tr>\n    <tr>\n      <th>Wright High School</th>\n      <td>Charter</td>\n      <td>1800</td>\n      <td>$1,049,400.00</td>\n      <td>$583.00</td>\n      <td>83.682222</td>\n      <td>83.955000</td>\n      <td>93.333333</td>\n      <td>96.611111</td>\n      <td>94.972222</td>\n    </tr>\n  </tbody>\n</table>\n</div>",
      "text/plain": "                      School Type  Total Students Total School Budget  \\\nSchool Name                                                             \nBailey High School       District            4976       $3,124,928.00   \nCabrera High School       Charter            1858       $1,081,356.00   \nFigueroa High School     District            2949       $1,884,411.00   \nFord High School         District            2739       $1,763,916.00   \nGriffin High School       Charter            1468         $917,500.00   \nHernandez High School    District            4635       $3,022,020.00   \nHolden High School        Charter             427         $248,087.00   \nHuang High School        District            2917       $1,910,635.00   \nJohnson High School      District            4761       $3,094,650.00   \nPena High School          Charter             962         $585,858.00   \nRodriguez High School    District            3999       $2,547,363.00   \nShelton High School       Charter            1761       $1,056,600.00   \nThomas High School        Charter            1635       $1,043,130.00   \nWilson High School        Charter            2283       $1,319,574.00   \nWright High School        Charter            1800       $1,049,400.00   \n\n                      Per Student Budget  Average Math Score  \\\nSchool Name                                                    \nBailey High School               $628.00           77.048432   \nCabrera High School              $582.00           83.061895   \nFigueroa High School             $639.00           76.711767   \nFord High School                 $644.00           77.102592   \nGriffin High School              $625.00           83.351499   \nHernandez High School            $652.00           77.289752   \nHolden High School               $581.00           83.803279   \nHuang High School                $655.00           76.629414   \nJohnson High School              $650.00           77.072464   \nPena High School                 $609.00           83.839917   \nRodriguez High School            $637.00           76.842711   \nShelton High School              $600.00           83.359455   \nThomas High School               $638.00           83.418349   \nWilson High School               $578.00           83.274201   \nWright High School               $583.00           83.682222   \n\n                       Average Reading Score  % Passing Math  \\\nSchool Name                                                    \nBailey High School                 81.033963       66.680064   \nCabrera High School                83.975780       94.133477   \nFigueroa High School               81.158020       65.988471   \nFord High School                   80.746258       68.309602   \nGriffin High School                83.816757       93.392371   \nHernandez High School              80.934412       66.752967   \nHolden High School                 83.814988       92.505855   \nHuang High School                  81.182722       65.683922   \nJohnson High School                80.966394       66.057551   \nPena High School                   84.044699       94.594595   \nRodriguez High School              80.744686       66.366592   \nShelton High School                83.725724       93.867121   \nThomas High School                 83.848930       93.272171   \nWilson High School                 83.989488       93.867718   \nWright High School                 83.955000       93.333333   \n\n                       % Passing Reading  % Overall Passing Rate  \nSchool Name                                                       \nBailey High School             81.933280               74.306672  \nCabrera High School            97.039828               95.586652  \nFigueroa High School           80.739234               73.363852  \nFord High School               79.299014               73.804308  \nGriffin High School            97.138965               95.265668  \nHernandez High School          80.862999               73.807983  \nHolden High School             96.252927               94.379391  \nHuang High School              81.316421               73.500171  \nJohnson High School            81.222432               73.639992  \nPena High School               95.945946               95.270270  \nRodriguez High School          80.220055               73.293323  \nShelton High School            95.854628               94.860875  \nThomas High School             97.308869               95.290520  \nWilson High School             96.539641               95.203679  \nWright High School             96.611111               94.972222  "
     },
     "execution_count": 454,
     "metadata": {},
     "output_type": "execute_result"
    }
   ],
   "source": [
    "## SCHOOL SUMMARY\n",
    "## --------------\n",
    "## Create an overview table that summarizes key metrics about each school\n",
    "\n",
    "# Group the merged data frame by Schools to run analysis on each School\n",
    "schools_grouped = school_data_complete.groupby(['School Name'])\n",
    "\n",
    "# Get the type of school\n",
    "school_type = schools_grouped['School Type'].max()\n",
    "\n",
    "# Calculate the total number of students in the school\n",
    "total_school_students = schools_grouped['Student ID'].count()\n",
    "\n",
    "# Calculate the total school budget\n",
    "total_school_budget = schools_grouped['School Budget'].max()\n",
    "\n",
    "# Calculate the per student budget for each school\n",
    "per_student_school_budget = total_school_budget / total_school_students\n",
    "\n",
    "# Calculate the average math score for each school\n",
    "average_school_math_score = schools_grouped['Math Score'].mean()\n",
    "\n",
    "# Calculate the average reading score for each school\n",
    "average_school_reading_score = schools_grouped['Reading Score'].mean() \n",
    "\n",
    "# Group the merged data frame by Schools once again, but based on passing math scores 70 or above\n",
    "school_passing_math_score = school_data_complete[school_data_complete['Math Score'] >= 70].groupby(['School Name'])\n",
    "# Calculate the % passing math score for each school\n",
    "percent_school_passing_math_score = (school_passing_math_score['Student ID'].count() / total_school_students) * 100\n",
    "\n",
    "# Group the merged data frame by Schools once again, but based on passing reading scores 70 or above\n",
    "school_passing_reading_score = school_data_complete[school_data_complete['Reading Score'] >= 70].groupby(['School Name'])\n",
    "# Calculate the % reading score for each school\n",
    "percent_school_passing_reading_score = (school_passing_reading_score['Student ID'].count() / total_school_students) * 100\n",
    "\n",
    "# Calculate the overall passing rate for each school (average of the above two)\n",
    "overall_school_passing_rate = (percent_school_passing_math_score + percent_school_passing_reading_score) / 2\n",
    "\n",
    "# Save all of the school metrics to a Data Frame\n",
    "school_metrics_summary = pd.DataFrame({ 'School Type': school_type, 'Total Students': total_school_students, 'Total School Budget': total_school_budget, 'Per Student Budget': per_student_school_budget, 'Average Math Score': average_school_math_score, 'Average Reading Score': average_school_reading_score, '% Passing Math': percent_school_passing_math_score, '% Passing Reading': percent_school_passing_reading_score, '% Overall Passing Rate': overall_school_passing_rate} )\n",
    "\n",
    "# Format the budget columns\n",
    "school_metrics_summary['Total School Budget'] = school_metrics_summary['Total School Budget'].map(\"${:,.2f}\".format)\n",
    "school_metrics_summary['Per Student Budget'] = school_metrics_summary['Per Student Budget'].map(\"${:,.2f}\".format)\n",
    "\n",
    "# Display metrics for all schools\n",
    "school_metrics_summary"
   ]
  },
  {
   "cell_type": "code",
   "execution_count": 455,
   "metadata": {},
   "outputs": [
    {
     "data": {
      "text/html": "<div>\n<style scoped>\n    .dataframe tbody tr th:only-of-type {\n        vertical-align: middle;\n    }\n\n    .dataframe tbody tr th {\n        vertical-align: top;\n    }\n\n    .dataframe thead th {\n        text-align: right;\n    }\n</style>\n<table border=\"1\" class=\"dataframe\">\n  <thead>\n    <tr style=\"text-align: right;\">\n      <th></th>\n      <th>School Type</th>\n      <th>Total Students</th>\n      <th>Total School Budget</th>\n      <th>Per Student Budget</th>\n      <th>Average Math Score</th>\n      <th>Average Reading Score</th>\n      <th>% Passing Math</th>\n      <th>% Passing Reading</th>\n      <th>% Overall Passing Rate</th>\n    </tr>\n    <tr>\n      <th>School Name</th>\n      <th></th>\n      <th></th>\n      <th></th>\n      <th></th>\n      <th></th>\n      <th></th>\n      <th></th>\n      <th></th>\n      <th></th>\n    </tr>\n  </thead>\n  <tbody>\n    <tr>\n      <th>Cabrera High School</th>\n      <td>Charter</td>\n      <td>1858</td>\n      <td>$1,081,356.00</td>\n      <td>$582.00</td>\n      <td>83.061895</td>\n      <td>83.975780</td>\n      <td>94.133477</td>\n      <td>97.039828</td>\n      <td>95.586652</td>\n    </tr>\n    <tr>\n      <th>Thomas High School</th>\n      <td>Charter</td>\n      <td>1635</td>\n      <td>$1,043,130.00</td>\n      <td>$638.00</td>\n      <td>83.418349</td>\n      <td>83.848930</td>\n      <td>93.272171</td>\n      <td>97.308869</td>\n      <td>95.290520</td>\n    </tr>\n    <tr>\n      <th>Pena High School</th>\n      <td>Charter</td>\n      <td>962</td>\n      <td>$585,858.00</td>\n      <td>$609.00</td>\n      <td>83.839917</td>\n      <td>84.044699</td>\n      <td>94.594595</td>\n      <td>95.945946</td>\n      <td>95.270270</td>\n    </tr>\n    <tr>\n      <th>Griffin High School</th>\n      <td>Charter</td>\n      <td>1468</td>\n      <td>$917,500.00</td>\n      <td>$625.00</td>\n      <td>83.351499</td>\n      <td>83.816757</td>\n      <td>93.392371</td>\n      <td>97.138965</td>\n      <td>95.265668</td>\n    </tr>\n    <tr>\n      <th>Wilson High School</th>\n      <td>Charter</td>\n      <td>2283</td>\n      <td>$1,319,574.00</td>\n      <td>$578.00</td>\n      <td>83.274201</td>\n      <td>83.989488</td>\n      <td>93.867718</td>\n      <td>96.539641</td>\n      <td>95.203679</td>\n    </tr>\n  </tbody>\n</table>\n</div>",
      "text/plain": "                    School Type  Total Students Total School Budget  \\\nSchool Name                                                           \nCabrera High School     Charter            1858       $1,081,356.00   \nThomas High School      Charter            1635       $1,043,130.00   \nPena High School        Charter             962         $585,858.00   \nGriffin High School     Charter            1468         $917,500.00   \nWilson High School      Charter            2283       $1,319,574.00   \n\n                    Per Student Budget  Average Math Score  \\\nSchool Name                                                  \nCabrera High School            $582.00           83.061895   \nThomas High School             $638.00           83.418349   \nPena High School               $609.00           83.839917   \nGriffin High School            $625.00           83.351499   \nWilson High School             $578.00           83.274201   \n\n                     Average Reading Score  % Passing Math  % Passing Reading  \\\nSchool Name                                                                     \nCabrera High School              83.975780       94.133477          97.039828   \nThomas High School               83.848930       93.272171          97.308869   \nPena High School                 84.044699       94.594595          95.945946   \nGriffin High School              83.816757       93.392371          97.138965   \nWilson High School               83.989488       93.867718          96.539641   \n\n                     % Overall Passing Rate  \nSchool Name                                  \nCabrera High School               95.586652  \nThomas High School                95.290520  \nPena High School                  95.270270  \nGriffin High School               95.265668  \nWilson High School                95.203679  "
     },
     "execution_count": 455,
     "metadata": {},
     "output_type": "execute_result"
    }
   ],
   "source": [
    "## TOP PERFORMING SCHOOLS BY PASSING RATE\n",
    "## --------------------------------------\n",
    "\n",
    "# Sort and display the top five schools in overall passing rate\n",
    "top_passing_rate_schools = school_metrics_summary.sort_values('% Overall Passing Rate', ascending=False)\n",
    "top_passing_rate_schools.head()"
   ]
  },
  {
   "cell_type": "code",
   "execution_count": 456,
   "metadata": {},
   "outputs": [
    {
     "data": {
      "text/html": "<div>\n<style scoped>\n    .dataframe tbody tr th:only-of-type {\n        vertical-align: middle;\n    }\n\n    .dataframe tbody tr th {\n        vertical-align: top;\n    }\n\n    .dataframe thead th {\n        text-align: right;\n    }\n</style>\n<table border=\"1\" class=\"dataframe\">\n  <thead>\n    <tr style=\"text-align: right;\">\n      <th></th>\n      <th>School Type</th>\n      <th>Total Students</th>\n      <th>Total School Budget</th>\n      <th>Per Student Budget</th>\n      <th>Average Math Score</th>\n      <th>Average Reading Score</th>\n      <th>% Passing Math</th>\n      <th>% Passing Reading</th>\n      <th>% Overall Passing Rate</th>\n    </tr>\n    <tr>\n      <th>School Name</th>\n      <th></th>\n      <th></th>\n      <th></th>\n      <th></th>\n      <th></th>\n      <th></th>\n      <th></th>\n      <th></th>\n      <th></th>\n    </tr>\n  </thead>\n  <tbody>\n    <tr>\n      <th>Rodriguez High School</th>\n      <td>District</td>\n      <td>3999</td>\n      <td>$2,547,363.00</td>\n      <td>$637.00</td>\n      <td>76.842711</td>\n      <td>80.744686</td>\n      <td>66.366592</td>\n      <td>80.220055</td>\n      <td>73.293323</td>\n    </tr>\n    <tr>\n      <th>Figueroa High School</th>\n      <td>District</td>\n      <td>2949</td>\n      <td>$1,884,411.00</td>\n      <td>$639.00</td>\n      <td>76.711767</td>\n      <td>81.158020</td>\n      <td>65.988471</td>\n      <td>80.739234</td>\n      <td>73.363852</td>\n    </tr>\n    <tr>\n      <th>Huang High School</th>\n      <td>District</td>\n      <td>2917</td>\n      <td>$1,910,635.00</td>\n      <td>$655.00</td>\n      <td>76.629414</td>\n      <td>81.182722</td>\n      <td>65.683922</td>\n      <td>81.316421</td>\n      <td>73.500171</td>\n    </tr>\n    <tr>\n      <th>Johnson High School</th>\n      <td>District</td>\n      <td>4761</td>\n      <td>$3,094,650.00</td>\n      <td>$650.00</td>\n      <td>77.072464</td>\n      <td>80.966394</td>\n      <td>66.057551</td>\n      <td>81.222432</td>\n      <td>73.639992</td>\n    </tr>\n    <tr>\n      <th>Ford High School</th>\n      <td>District</td>\n      <td>2739</td>\n      <td>$1,763,916.00</td>\n      <td>$644.00</td>\n      <td>77.102592</td>\n      <td>80.746258</td>\n      <td>68.309602</td>\n      <td>79.299014</td>\n      <td>73.804308</td>\n    </tr>\n  </tbody>\n</table>\n</div>",
      "text/plain": "                      School Type  Total Students Total School Budget  \\\nSchool Name                                                             \nRodriguez High School    District            3999       $2,547,363.00   \nFigueroa High School     District            2949       $1,884,411.00   \nHuang High School        District            2917       $1,910,635.00   \nJohnson High School      District            4761       $3,094,650.00   \nFord High School         District            2739       $1,763,916.00   \n\n                      Per Student Budget  Average Math Score  \\\nSchool Name                                                    \nRodriguez High School            $637.00           76.842711   \nFigueroa High School             $639.00           76.711767   \nHuang High School                $655.00           76.629414   \nJohnson High School              $650.00           77.072464   \nFord High School                 $644.00           77.102592   \n\n                       Average Reading Score  % Passing Math  \\\nSchool Name                                                    \nRodriguez High School              80.744686       66.366592   \nFigueroa High School               81.158020       65.988471   \nHuang High School                  81.182722       65.683922   \nJohnson High School                80.966394       66.057551   \nFord High School                   80.746258       68.309602   \n\n                       % Passing Reading  % Overall Passing Rate  \nSchool Name                                                       \nRodriguez High School          80.220055               73.293323  \nFigueroa High School           80.739234               73.363852  \nHuang High School              81.316421               73.500171  \nJohnson High School            81.222432               73.639992  \nFord High School               79.299014               73.804308  "
     },
     "execution_count": 456,
     "metadata": {},
     "output_type": "execute_result"
    }
   ],
   "source": [
    "## BOTTOM PERFORMING SCHOOLS BY PASSING RATE\n",
    "## -----------------------------------------\n",
    "\n",
    "# Sort and display the five worst-performing schools in overall passing rate\n",
    "bottom_passing_rate_schools = school_metrics_summary.sort_values('% Overall Passing Rate')\n",
    "bottom_passing_rate_schools.head()"
   ]
  },
  {
   "cell_type": "code",
   "execution_count": 457,
   "metadata": {},
   "outputs": [
    {
     "data": {
      "text/html": "<div>\n<style scoped>\n    .dataframe tbody tr th:only-of-type {\n        vertical-align: middle;\n    }\n\n    .dataframe tbody tr th {\n        vertical-align: top;\n    }\n\n    .dataframe thead th {\n        text-align: right;\n    }\n</style>\n<table border=\"1\" class=\"dataframe\">\n  <thead>\n    <tr style=\"text-align: right;\">\n      <th></th>\n      <th>9th Grade</th>\n      <th>10th Grade</th>\n      <th>11th Grade</th>\n      <th>12th Grade</th>\n    </tr>\n    <tr>\n      <th>School Name</th>\n      <th></th>\n      <th></th>\n      <th></th>\n      <th></th>\n    </tr>\n  </thead>\n  <tbody>\n    <tr>\n      <th>Bailey High School</th>\n      <td>77.083676</td>\n      <td>76.996772</td>\n      <td>77.515588</td>\n      <td>76.492218</td>\n    </tr>\n    <tr>\n      <th>Cabrera High School</th>\n      <td>83.094697</td>\n      <td>83.154506</td>\n      <td>82.765560</td>\n      <td>83.277487</td>\n    </tr>\n    <tr>\n      <th>Figueroa High School</th>\n      <td>76.403037</td>\n      <td>76.539974</td>\n      <td>76.884344</td>\n      <td>77.151369</td>\n    </tr>\n    <tr>\n      <th>Ford High School</th>\n      <td>77.361345</td>\n      <td>77.672316</td>\n      <td>76.918058</td>\n      <td>76.179963</td>\n    </tr>\n    <tr>\n      <th>Griffin High School</th>\n      <td>82.044010</td>\n      <td>84.229064</td>\n      <td>83.842105</td>\n      <td>83.356164</td>\n    </tr>\n    <tr>\n      <th>Hernandez High School</th>\n      <td>77.438495</td>\n      <td>77.337408</td>\n      <td>77.136029</td>\n      <td>77.186567</td>\n    </tr>\n    <tr>\n      <th>Holden High School</th>\n      <td>83.787402</td>\n      <td>83.429825</td>\n      <td>85.000000</td>\n      <td>82.855422</td>\n    </tr>\n    <tr>\n      <th>Huang High School</th>\n      <td>77.027251</td>\n      <td>75.908735</td>\n      <td>76.446602</td>\n      <td>77.225641</td>\n    </tr>\n    <tr>\n      <th>Johnson High School</th>\n      <td>77.187857</td>\n      <td>76.691117</td>\n      <td>77.491653</td>\n      <td>76.863248</td>\n    </tr>\n    <tr>\n      <th>Pena High School</th>\n      <td>83.625455</td>\n      <td>83.372000</td>\n      <td>84.328125</td>\n      <td>84.121547</td>\n    </tr>\n    <tr>\n      <th>Rodriguez High School</th>\n      <td>76.859966</td>\n      <td>76.612500</td>\n      <td>76.395626</td>\n      <td>77.690748</td>\n    </tr>\n    <tr>\n      <th>Shelton High School</th>\n      <td>83.420755</td>\n      <td>82.917411</td>\n      <td>83.383495</td>\n      <td>83.778976</td>\n    </tr>\n    <tr>\n      <th>Thomas High School</th>\n      <td>83.590022</td>\n      <td>83.087886</td>\n      <td>83.498795</td>\n      <td>83.497041</td>\n    </tr>\n    <tr>\n      <th>Wilson High School</th>\n      <td>83.085578</td>\n      <td>83.724422</td>\n      <td>83.195326</td>\n      <td>83.035794</td>\n    </tr>\n    <tr>\n      <th>Wright High School</th>\n      <td>83.264706</td>\n      <td>84.010288</td>\n      <td>83.836782</td>\n      <td>83.644986</td>\n    </tr>\n  </tbody>\n</table>\n</div>",
      "text/plain": "                       9th Grade  10th Grade  11th Grade  12th Grade\nSchool Name                                                         \nBailey High School     77.083676   76.996772   77.515588   76.492218\nCabrera High School    83.094697   83.154506   82.765560   83.277487\nFigueroa High School   76.403037   76.539974   76.884344   77.151369\nFord High School       77.361345   77.672316   76.918058   76.179963\nGriffin High School    82.044010   84.229064   83.842105   83.356164\nHernandez High School  77.438495   77.337408   77.136029   77.186567\nHolden High School     83.787402   83.429825   85.000000   82.855422\nHuang High School      77.027251   75.908735   76.446602   77.225641\nJohnson High School    77.187857   76.691117   77.491653   76.863248\nPena High School       83.625455   83.372000   84.328125   84.121547\nRodriguez High School  76.859966   76.612500   76.395626   77.690748\nShelton High School    83.420755   82.917411   83.383495   83.778976\nThomas High School     83.590022   83.087886   83.498795   83.497041\nWilson High School     83.085578   83.724422   83.195326   83.035794\nWright High School     83.264706   84.010288   83.836782   83.644986"
     },
     "execution_count": 457,
     "metadata": {},
     "output_type": "execute_result"
    }
   ],
   "source": [
    "## MATH SCORES BY GRADE\n",
    "## --------------------\n",
    "## Create a table that lists the average Math Score for students of each grade level (9th, 10th, 11th, 12th) at each school.\n",
    "\n",
    "# Create a series for each grade\n",
    "ninth_grade = student_data[student_data['Grade'] == '9th']\n",
    "tenth_grade = student_data[student_data['Grade'] == '10th']\n",
    "eleventh_grade = student_data[student_data['Grade'] == '11th']\n",
    "twelfth_grade = student_data[student_data['Grade'] == '12th']\n",
    "\n",
    "# Group each series by school\n",
    "ninth_grade_school = ninth_grade.groupby('School Name')\n",
    "tenth_grade_school = tenth_grade.groupby('School Name')\n",
    "eleventh_grade_school = eleventh_grade.groupby('School Name')\n",
    "twelfth_grade_school = twelfth_grade.groupby('School Name')\n",
    "\n",
    "# Calculate average math score for students of each grade level (9th, 10th, 11th, 12th) at each school\n",
    "avg_ninth_grade_math_score = ninth_grade_school['Math Score'].mean()\n",
    "avg_tenth_grade_math_score = tenth_grade_school['Math Score'].mean()\n",
    "avg_eleventh_grade_math_score = eleventh_grade_school['Math Score'].mean()\n",
    "avg_twelfth_grade_math_score = twelfth_grade_school['Math Score'].mean()\n",
    "\n",
    "# Combine the series into a dataframe\n",
    "math_score_by_grade = pd.DataFrame( {'9th Grade': avg_ninth_grade_math_score, '10th Grade': avg_tenth_grade_math_score, '11th Grade': avg_eleventh_grade_math_score, '12th Grade': avg_twelfth_grade_math_score })\n",
    "\n",
    "# Display the average math scores by grade data frame\n",
    "math_score_by_grade"
   ]
  },
  {
   "cell_type": "code",
   "execution_count": 458,
   "metadata": {},
   "outputs": [
    {
     "data": {
      "text/html": "<div>\n<style scoped>\n    .dataframe tbody tr th:only-of-type {\n        vertical-align: middle;\n    }\n\n    .dataframe tbody tr th {\n        vertical-align: top;\n    }\n\n    .dataframe thead th {\n        text-align: right;\n    }\n</style>\n<table border=\"1\" class=\"dataframe\">\n  <thead>\n    <tr style=\"text-align: right;\">\n      <th></th>\n      <th>9th Grade</th>\n      <th>10th Grade</th>\n      <th>11th Grade</th>\n      <th>12th Grade</th>\n    </tr>\n    <tr>\n      <th>School Name</th>\n      <th></th>\n      <th></th>\n      <th></th>\n      <th></th>\n    </tr>\n  </thead>\n  <tbody>\n    <tr>\n      <th>Bailey High School</th>\n      <td>81.303155</td>\n      <td>80.907183</td>\n      <td>80.945643</td>\n      <td>80.912451</td>\n    </tr>\n    <tr>\n      <th>Cabrera High School</th>\n      <td>83.676136</td>\n      <td>84.253219</td>\n      <td>83.788382</td>\n      <td>84.287958</td>\n    </tr>\n    <tr>\n      <th>Figueroa High School</th>\n      <td>81.198598</td>\n      <td>81.408912</td>\n      <td>80.640339</td>\n      <td>81.384863</td>\n    </tr>\n    <tr>\n      <th>Ford High School</th>\n      <td>80.632653</td>\n      <td>81.262712</td>\n      <td>80.403642</td>\n      <td>80.662338</td>\n    </tr>\n    <tr>\n      <th>Griffin High School</th>\n      <td>83.369193</td>\n      <td>83.706897</td>\n      <td>84.288089</td>\n      <td>84.013699</td>\n    </tr>\n    <tr>\n      <th>Hernandez High School</th>\n      <td>80.866860</td>\n      <td>80.660147</td>\n      <td>81.396140</td>\n      <td>80.857143</td>\n    </tr>\n    <tr>\n      <th>Holden High School</th>\n      <td>83.677165</td>\n      <td>83.324561</td>\n      <td>83.815534</td>\n      <td>84.698795</td>\n    </tr>\n    <tr>\n      <th>Huang High School</th>\n      <td>81.290284</td>\n      <td>81.512386</td>\n      <td>81.417476</td>\n      <td>80.305983</td>\n    </tr>\n    <tr>\n      <th>Johnson High School</th>\n      <td>81.260714</td>\n      <td>80.773431</td>\n      <td>80.616027</td>\n      <td>81.227564</td>\n    </tr>\n    <tr>\n      <th>Pena High School</th>\n      <td>83.807273</td>\n      <td>83.612000</td>\n      <td>84.335938</td>\n      <td>84.591160</td>\n    </tr>\n    <tr>\n      <th>Rodriguez High School</th>\n      <td>80.993127</td>\n      <td>80.629808</td>\n      <td>80.864811</td>\n      <td>80.376426</td>\n    </tr>\n    <tr>\n      <th>Shelton High School</th>\n      <td>84.122642</td>\n      <td>83.441964</td>\n      <td>84.373786</td>\n      <td>82.781671</td>\n    </tr>\n    <tr>\n      <th>Thomas High School</th>\n      <td>83.728850</td>\n      <td>84.254157</td>\n      <td>83.585542</td>\n      <td>83.831361</td>\n    </tr>\n    <tr>\n      <th>Wilson High School</th>\n      <td>83.939778</td>\n      <td>84.021452</td>\n      <td>83.764608</td>\n      <td>84.317673</td>\n    </tr>\n    <tr>\n      <th>Wright High School</th>\n      <td>83.833333</td>\n      <td>83.812757</td>\n      <td>84.156322</td>\n      <td>84.073171</td>\n    </tr>\n  </tbody>\n</table>\n</div>",
      "text/plain": "                       9th Grade  10th Grade  11th Grade  12th Grade\nSchool Name                                                         \nBailey High School     81.303155   80.907183   80.945643   80.912451\nCabrera High School    83.676136   84.253219   83.788382   84.287958\nFigueroa High School   81.198598   81.408912   80.640339   81.384863\nFord High School       80.632653   81.262712   80.403642   80.662338\nGriffin High School    83.369193   83.706897   84.288089   84.013699\nHernandez High School  80.866860   80.660147   81.396140   80.857143\nHolden High School     83.677165   83.324561   83.815534   84.698795\nHuang High School      81.290284   81.512386   81.417476   80.305983\nJohnson High School    81.260714   80.773431   80.616027   81.227564\nPena High School       83.807273   83.612000   84.335938   84.591160\nRodriguez High School  80.993127   80.629808   80.864811   80.376426\nShelton High School    84.122642   83.441964   84.373786   82.781671\nThomas High School     83.728850   84.254157   83.585542   83.831361\nWilson High School     83.939778   84.021452   83.764608   84.317673\nWright High School     83.833333   83.812757   84.156322   84.073171"
     },
     "execution_count": 458,
     "metadata": {},
     "output_type": "execute_result"
    }
   ],
   "source": [
    "## READING SCORES BY GRADE\n",
    "## -----------------------\n",
    "## Create a table that lists the average Reading Score for students of each grade level (9th, 10th, 11th, 12th) at each school.\n",
    "\n",
    "# Create a series for each grade\n",
    "ninth_grade = student_data[student_data['Grade'] == '9th']\n",
    "tenth_grade = student_data[student_data['Grade'] == '10th']\n",
    "eleventh_grade = student_data[student_data['Grade'] == '11th']\n",
    "twelfth_grade = student_data[student_data['Grade'] == '12th']\n",
    "\n",
    "# Group each series by school\n",
    "ninth_grade_school = ninth_grade.groupby('School Name')\n",
    "tenth_grade_school = tenth_grade.groupby('School Name')\n",
    "eleventh_grade_school = eleventh_grade.groupby('School Name')\n",
    "twelfth_grade_school = twelfth_grade.groupby('School Name')\n",
    "\n",
    "# Calculate average math score for students of each grade level (9th, 10th, 11th, 12th) at each school\n",
    "avg_ninth_grade_reading_score = ninth_grade_school['Reading Score'].mean()\n",
    "avg_tenth_grade_reading_score = tenth_grade_school['Reading Score'].mean()\n",
    "avg_eleventh_grade_reading_score = eleventh_grade_school['Reading Score'].mean()\n",
    "avg_twelfth_grade_reading_score = twelfth_grade_school['Reading Score'].mean()\n",
    "\n",
    "# Combine the series into a dataframe\n",
    "reading_score_by_grade = pd.DataFrame( {'9th Grade': avg_ninth_grade_reading_score, '10th Grade': avg_tenth_grade_reading_score, '11th Grade': avg_eleventh_grade_reading_score, '12th Grade': avg_twelfth_grade_reading_score })\n",
    "\n",
    "# Display the average reading scores by grade data frame\n",
    "reading_score_by_grade"
   ]
  },
  {
   "cell_type": "code",
   "execution_count": 459,
   "metadata": {},
   "outputs": [
    {
     "data": {
      "text/html": "<div>\n<style scoped>\n    .dataframe tbody tr th:only-of-type {\n        vertical-align: middle;\n    }\n\n    .dataframe tbody tr th {\n        vertical-align: top;\n    }\n\n    .dataframe thead th {\n        text-align: right;\n    }\n</style>\n<table border=\"1\" class=\"dataframe\">\n  <thead>\n    <tr style=\"text-align: right;\">\n      <th></th>\n      <th>Average Math Score</th>\n      <th>Average Reading Score</th>\n      <th>% Passing Math</th>\n      <th>% Passing Reading</th>\n      <th>% Overall Passing Rate</th>\n    </tr>\n    <tr>\n      <th>School Budget</th>\n      <th></th>\n      <th></th>\n      <th></th>\n      <th></th>\n      <th></th>\n    </tr>\n  </thead>\n  <tbody>\n    <tr>\n      <th>&lt;$585K</th>\n      <td>83.803279</td>\n      <td>83.814988</td>\n      <td>92.505855</td>\n      <td>96.252927</td>\n      <td>94.379391</td>\n    </tr>\n    <tr>\n      <th>$585K-1.15M</th>\n      <td>83.420076</td>\n      <td>83.885913</td>\n      <td>93.715732</td>\n      <td>96.689161</td>\n      <td>95.202446</td>\n    </tr>\n    <tr>\n      <th>$1.15M-$1.725M</th>\n      <td>83.274201</td>\n      <td>83.989488</td>\n      <td>93.867718</td>\n      <td>96.539641</td>\n      <td>95.203679</td>\n    </tr>\n    <tr>\n      <th>$1.725M-$2.875M</th>\n      <td>76.819184</td>\n      <td>80.943113</td>\n      <td>66.542368</td>\n      <td>80.395113</td>\n      <td>73.468740</td>\n    </tr>\n    <tr>\n      <th>&gt;$2.875M</th>\n      <td>77.134219</td>\n      <td>80.979474</td>\n      <td>66.497356</td>\n      <td>81.352630</td>\n      <td>73.924993</td>\n    </tr>\n  </tbody>\n</table>\n</div>",
      "text/plain": "                 Average Math Score  Average Reading Score  % Passing Math  \\\nSchool Budget                                                                \n<$585K                    83.803279              83.814988       92.505855   \n$585K-1.15M               83.420076              83.885913       93.715732   \n$1.15M-$1.725M            83.274201              83.989488       93.867718   \n$1.725M-$2.875M           76.819184              80.943113       66.542368   \n>$2.875M                  77.134219              80.979474       66.497356   \n\n                 % Passing Reading  % Overall Passing Rate  \nSchool Budget                                               \n<$585K                   96.252927               94.379391  \n$585K-1.15M              96.689161               95.202446  \n$1.15M-$1.725M           96.539641               95.203679  \n$1.725M-$2.875M          80.395113               73.468740  \n>$2.875M                 81.352630               73.924993  "
     },
     "execution_count": 459,
     "metadata": {},
     "output_type": "execute_result"
    }
   ],
   "source": [
    "## SCORES BY SCHOOL SPENDING\n",
    "## ------------------------\n",
    "## Create a table that breaks down school performances based on average Spending Ranges (Per Student). \n",
    "\n",
    "# Establish bins for school spending\n",
    "max_budget = school_data['School Budget'].max()\n",
    "spending_bins = [0, 585000, 1150000, 1725000, 2875000, max_budget]\n",
    "spending_groups = [\"<$585K\", \"$585K-1.15M\", \"$1.15M-$1.725M\", \"$1.725M-$2.875M\", \">$2.875M\"]\n",
    "\n",
    "# Categorize the schools based on the spending bins\n",
    "school_data_complete.loc[:,'School Budget'] = pd.cut(school_data_complete.loc[:,'School Budget'], spending_bins, labels=spending_groups)\n",
    "\n",
    "# Group the complete schools data frame by budget to run a spending-based analysis \n",
    "school_spending_groups = school_data_complete.groupby(['School Budget'])\n",
    "\n",
    "# Calculate number of students\n",
    "num_students = school_spending_groups['Student ID'].count()\n",
    "\n",
    "# Calculate the average math score for each school\n",
    "avg_math_score_spending = school_spending_groups['Math Score'].mean()\n",
    "\n",
    "# Calculate the average reading score for each school\n",
    "avg_reading_score_spending = school_spending_groups['Reading Score'].mean() \n",
    "\n",
    "# Calculate the percentage of students with a passing math score (70 or greater)\n",
    "passing_math_score_spending = school_data_complete[school_data_complete['Math Score'] >= 70].groupby(['School Budget'])\n",
    "percent_passing_math_spending = (passing_math_score_spending['Math Score'].count() / num_students) * 100\n",
    "\n",
    "# Calculate the percentage of students with a passing reading score (70 or greater)\n",
    "passing_reading_score_spending = school_data_complete[school_data_complete['Reading Score'] >= 70].groupby(['School Budget'])\n",
    "percent_passing_reading_spending = (passing_reading_score_spending['Reading Score'].count() / num_students) * 100\n",
    "\n",
    "# Calculate the percent of overall passing rate (overall average score), i.e. (avg. math score + avg. reading score)/2\n",
    "overall_passing_rate_spending = (percent_passing_math_spending + percent_passing_reading_spending) / 2\n",
    "\n",
    "# Save all of the school spending metrics to a Data Frame\n",
    "scores_school_spending = pd.DataFrame({ 'Average Math Score': avg_math_score_spending, 'Average Reading Score': avg_reading_score_spending, '% Passing Math': percent_passing_math_spending, '% Passing Reading': percent_passing_reading_spending, '% Overall Passing Rate': overall_passing_rate_spending} )\n",
    "\n",
    "# Display scores based on the school spending\n",
    "scores_school_spending"
   ]
  },
  {
   "cell_type": "code",
   "execution_count": 460,
   "metadata": {},
   "outputs": [
    {
     "data": {
      "text/html": "<div>\n<style scoped>\n    .dataframe tbody tr th:only-of-type {\n        vertical-align: middle;\n    }\n\n    .dataframe tbody tr th {\n        vertical-align: top;\n    }\n\n    .dataframe thead th {\n        text-align: right;\n    }\n</style>\n<table border=\"1\" class=\"dataframe\">\n  <thead>\n    <tr style=\"text-align: right;\">\n      <th></th>\n      <th>Average Math Score</th>\n      <th>Average Reading Score</th>\n      <th>% Passing Math</th>\n      <th>% Passing Reading</th>\n      <th>% Overall Passing Rate</th>\n    </tr>\n    <tr>\n      <th>School Size</th>\n      <th></th>\n      <th></th>\n      <th></th>\n      <th></th>\n      <th></th>\n    </tr>\n  </thead>\n  <tbody>\n    <tr>\n      <th>Small (&lt;1000)</th>\n      <td>83.828654</td>\n      <td>83.974082</td>\n      <td>93.952484</td>\n      <td>96.040317</td>\n      <td>94.996400</td>\n    </tr>\n    <tr>\n      <th>Medium (1000-2000)</th>\n      <td>83.372682</td>\n      <td>83.867989</td>\n      <td>93.616522</td>\n      <td>96.773058</td>\n      <td>95.194790</td>\n    </tr>\n    <tr>\n      <th>Large (2000-5000)</th>\n      <td>77.477597</td>\n      <td>81.198674</td>\n      <td>68.652380</td>\n      <td>82.125158</td>\n      <td>75.388769</td>\n    </tr>\n  </tbody>\n</table>\n</div>",
      "text/plain": "                    Average Math Score  Average Reading Score  % Passing Math  \\\nSchool Size                                                                     \nSmall (<1000)                83.828654              83.974082       93.952484   \nMedium (1000-2000)           83.372682              83.867989       93.616522   \nLarge (2000-5000)            77.477597              81.198674       68.652380   \n\n                    % Passing Reading  % Overall Passing Rate  \nSchool Size                                                    \nSmall (<1000)               96.040317               94.996400  \nMedium (1000-2000)          96.773058               95.194790  \nLarge (2000-5000)           82.125158               75.388769  "
     },
     "execution_count": 460,
     "metadata": {},
     "output_type": "execute_result"
    }
   ],
   "source": [
    "## SCORES BY SCHOOL SIZE\n",
    "## ----------------------\n",
    "## Create a table that breaks down school performances based on a reasonable approximation of school size (Small, Medium, Large).\n",
    "\n",
    "# Establish bins for school sizes\n",
    "size_bins = [0, 1000, 2000, 5000]\n",
    "size_groups = [\"Small (<1000)\", \"Medium (1000-2000)\", \"Large (2000-5000)\"]\n",
    "\n",
    "# Categorize the schools based on the size bins\n",
    "school_data_complete.loc[:,'School Size'] = pd.cut(school_data_complete.loc[:,'School Size'], size_bins, labels=size_groups)\n",
    "\n",
    "# Group the complete schools data frame by school size to run a size-based analysis \n",
    "school_size_groups = school_data_complete.groupby(['School Size'])\n",
    "\n",
    "# Calculate number of students\n",
    "num_students = school_size_groups['Student ID'].count()\n",
    "\n",
    "# Calculate the average math score for each school\n",
    "avg_math_score_size= school_size_groups['Math Score'].mean()\n",
    "\n",
    "# Calculate the average reading score for each school\n",
    "avg_reading_score_size = school_size_groups['Reading Score'].mean() \n",
    "\n",
    "# Calculate the percentage of students with a passing math score (70 or greater)\n",
    "passing_math_score_size = school_data_complete[school_data_complete['Math Score'] >= 70].groupby(['School Size'])\n",
    "percent_passing_math_size = (passing_math_score_size['Math Score'].count() / num_students) * 100\n",
    "\n",
    "# Calculate the percentage of students with a passing reading score (70 or greater)\n",
    "passing_reading_score_size = school_data_complete[school_data_complete['Reading Score'] >= 70].groupby(['School Size'])\n",
    "percent_passing_reading_size = (passing_reading_score_size['Reading Score'].count() / num_students) * 100\n",
    "\n",
    "# Calculate the percent of overall passing rate (overall average score), i.e. (avg. math score + avg. reading score)/2\n",
    "overall_passing_rate_size = (percent_passing_math_size + percent_passing_reading_size) / 2\n",
    "\n",
    "# Save all of the school spending metrics to a Data Frame\n",
    "scores_school_size = pd.DataFrame({ 'Average Math Score': avg_math_score_size, 'Average Reading Score': avg_reading_score_size, '% Passing Math': percent_passing_math_size, '% Passing Reading': percent_passing_reading_size, '% Overall Passing Rate': overall_passing_rate_size} )\n",
    "\n",
    "# Display scores based on the school spending\n",
    "scores_school_size"
   ]
  },
  {
   "cell_type": "code",
   "execution_count": 461,
   "metadata": {},
   "outputs": [
    {
     "data": {
      "text/html": "<div>\n<style scoped>\n    .dataframe tbody tr th:only-of-type {\n        vertical-align: middle;\n    }\n\n    .dataframe tbody tr th {\n        vertical-align: top;\n    }\n\n    .dataframe thead th {\n        text-align: right;\n    }\n</style>\n<table border=\"1\" class=\"dataframe\">\n  <thead>\n    <tr style=\"text-align: right;\">\n      <th></th>\n      <th>Average Math Score</th>\n      <th>Average Reading Score</th>\n      <th>% Passing Math</th>\n      <th>% Passing Reading</th>\n      <th>% Overall Passing Rate</th>\n    </tr>\n    <tr>\n      <th>School Type</th>\n      <th></th>\n      <th></th>\n      <th></th>\n      <th></th>\n      <th></th>\n    </tr>\n  </thead>\n  <tbody>\n    <tr>\n      <th>Charter</th>\n      <td>83.406183</td>\n      <td>83.902821</td>\n      <td>93.701821</td>\n      <td>96.645891</td>\n      <td>95.173856</td>\n    </tr>\n    <tr>\n      <th>District</th>\n      <td>76.987026</td>\n      <td>80.962485</td>\n      <td>66.518387</td>\n      <td>80.905249</td>\n      <td>73.711818</td>\n    </tr>\n  </tbody>\n</table>\n</div>",
      "text/plain": "             Average Math Score  Average Reading Score  % Passing Math  \\\nSchool Type                                                              \nCharter               83.406183              83.902821       93.701821   \nDistrict              76.987026              80.962485       66.518387   \n\n             % Passing Reading  % Overall Passing Rate  \nSchool Type                                             \nCharter              96.645891               95.173856  \nDistrict             80.905249               73.711818  "
     },
     "execution_count": 461,
     "metadata": {},
     "output_type": "execute_result"
    }
   ],
   "source": [
    "## SCORES BY SCHOOL TYPE\n",
    "## ----------------------\n",
    "## Create a table that breaks down school performances based on school type (Charter vs. District).\n",
    "\n",
    "# Group the complete schools data frame by school type to run a type-based analysis \n",
    "school_type_groups = school_data_complete.groupby(['School Type'])\n",
    "\n",
    "# Calculate number of students\n",
    "num_students = school_type_groups['Student ID'].count()\n",
    "\n",
    "# Calculate the average math score for each school\n",
    "avg_math_score_type= school_type_groups['Math Score'].mean()\n",
    "\n",
    "# Calculate the average reading score for each school\n",
    "avg_reading_score_type = school_type_groups['Reading Score'].mean() \n",
    "\n",
    "# Calculate the percentage of students with a passing math score (70 or greater)\n",
    "passing_math_score_type = school_data_complete[school_data_complete['Math Score'] >= 70].groupby(['School Type'])\n",
    "percent_passing_math_type = (passing_math_score_type['Math Score'].count() / num_students) * 100\n",
    "\n",
    "# Calculate the percentage of students with a passing reading score (70 or greater)\n",
    "passing_reading_score_type = school_data_complete[school_data_complete['Reading Score'] >= 70].groupby(['School Type'])\n",
    "percent_passing_reading_type = (passing_reading_score_type['Reading Score'].count() / num_students) * 100\n",
    "\n",
    "# Calculate the percent of overall passing rate (overall average score), i.e. (avg. math score + avg. reading score)/2\n",
    "overall_passing_rate_type = (percent_passing_math_type + percent_passing_reading_type) / 2\n",
    "\n",
    "# Save all of the school spending metrics to a Data Frame\n",
    "scores_school_type = pd.DataFrame({ 'Average Math Score': avg_math_score_type, 'Average Reading Score': avg_reading_score_type, '% Passing Math': percent_passing_math_type, '% Passing Reading': percent_passing_reading_type, '% Overall Passing Rate': overall_passing_rate_type} )\n",
    "\n",
    "# Display scores based on the school spending\n",
    "scores_school_type"
   ]
  }
 ]
}