{
 "nbformat": 4,
 "nbformat_minor": 2,
 "metadata": {
  "language_info": {
   "name": "python",
   "codemirror_mode": {
    "name": "ipython",
    "version": 3
   },
   "version": "3.7.5-final"
  },
  "orig_nbformat": 2,
  "file_extension": ".py",
  "mimetype": "text/x-python",
  "name": "python",
  "npconvert_exporter": "python",
  "pygments_lexer": "ipython3",
  "version": 3,
  "kernelspec": {
   "name": "python37564bitpythondatacondac30bd6fcf4694af7948ebff9c485f105",
   "display_name": "Python 3.7.5 64-bit ('PythonData': conda)"
  }
 },
 "cells": [
  {
   "cell_type": "code",
   "execution_count": 86,
   "metadata": {},
   "outputs": [],
   "source": [
    "# Dependencies and Setup\n",
    "import pandas as pd\n",
    "\n",
    "# File to Load\n",
    "school_data_to_load = \"Resources/schools_complete.csv\"\n",
    "student_data_to_load = \"Resources/students_complete.csv\"\n",
    "\n",
    "# Read School and Student Data File and store into Pandas Data Frames\n",
    "school_data = pd.read_csv(school_data_to_load)\n",
    "student_data = pd.read_csv(student_data_to_load)\n",
    "\n",
    "# Rename columns in both data frames for consistency and clarity\n",
    "school_data = school_data.rename(columns = {'school_name':'School Name', 'type':'School Type', 'size':'School Size', 'budget':'School Budget'})\n",
    "student_data = student_data.rename(columns = {'student_name':'Student Name', 'gender':'Gender', 'grade':'Grade', 'school_name':'School Name', 'math_score':'Math Score', 'reading_score':'Reading Score'})\n",
    "\n",
    "# Combine the data into a single dataset\n",
    "school_data_complete = pd.merge(student_data, school_data, how='left', on=['School Name', 'School Name'])"
   ]
  },
  {
   "cell_type": "code",
   "execution_count": 87,
   "metadata": {},
   "outputs": [
    {
     "data": {
      "text/html": "<div>\n<style scoped>\n    .dataframe tbody tr th:only-of-type {\n        vertical-align: middle;\n    }\n\n    .dataframe tbody tr th {\n        vertical-align: top;\n    }\n\n    .dataframe thead th {\n        text-align: right;\n    }\n</style>\n<table border=\"1\" class=\"dataframe\">\n  <thead>\n    <tr style=\"text-align: right;\">\n      <th></th>\n      <th>Student ID</th>\n      <th>Student Name</th>\n      <th>Gender</th>\n      <th>Grade</th>\n      <th>School Name</th>\n      <th>Reading Score</th>\n      <th>Math Score</th>\n      <th>School ID</th>\n      <th>School Type</th>\n      <th>School Size</th>\n      <th>School Budget</th>\n    </tr>\n  </thead>\n  <tbody>\n    <tr>\n      <th>0</th>\n      <td>0</td>\n      <td>Paul Bradley</td>\n      <td>M</td>\n      <td>9th</td>\n      <td>Huang High School</td>\n      <td>66</td>\n      <td>79</td>\n      <td>0</td>\n      <td>District</td>\n      <td>2917</td>\n      <td>1910635</td>\n    </tr>\n    <tr>\n      <th>1</th>\n      <td>1</td>\n      <td>Victor Smith</td>\n      <td>M</td>\n      <td>12th</td>\n      <td>Huang High School</td>\n      <td>94</td>\n      <td>61</td>\n      <td>0</td>\n      <td>District</td>\n      <td>2917</td>\n      <td>1910635</td>\n    </tr>\n    <tr>\n      <th>2</th>\n      <td>2</td>\n      <td>Kevin Rodriguez</td>\n      <td>M</td>\n      <td>12th</td>\n      <td>Huang High School</td>\n      <td>90</td>\n      <td>60</td>\n      <td>0</td>\n      <td>District</td>\n      <td>2917</td>\n      <td>1910635</td>\n    </tr>\n    <tr>\n      <th>3</th>\n      <td>3</td>\n      <td>Dr. Richard Scott</td>\n      <td>M</td>\n      <td>12th</td>\n      <td>Huang High School</td>\n      <td>67</td>\n      <td>58</td>\n      <td>0</td>\n      <td>District</td>\n      <td>2917</td>\n      <td>1910635</td>\n    </tr>\n    <tr>\n      <th>4</th>\n      <td>4</td>\n      <td>Bonnie Ray</td>\n      <td>F</td>\n      <td>9th</td>\n      <td>Huang High School</td>\n      <td>97</td>\n      <td>84</td>\n      <td>0</td>\n      <td>District</td>\n      <td>2917</td>\n      <td>1910635</td>\n    </tr>\n  </tbody>\n</table>\n</div>",
      "text/plain": "   Student ID       Student Name Gender Grade        School Name  \\\n0           0       Paul Bradley      M   9th  Huang High School   \n1           1       Victor Smith      M  12th  Huang High School   \n2           2    Kevin Rodriguez      M  12th  Huang High School   \n3           3  Dr. Richard Scott      M  12th  Huang High School   \n4           4         Bonnie Ray      F   9th  Huang High School   \n\n   Reading Score  Math Score  School ID School Type  School Size  \\\n0             66          79          0    District         2917   \n1             94          61          0    District         2917   \n2             90          60          0    District         2917   \n3             67          58          0    District         2917   \n4             97          84          0    District         2917   \n\n   School Budget  \n0        1910635  \n1        1910635  \n2        1910635  \n3        1910635  \n4        1910635  "
     },
     "execution_count": 87,
     "metadata": {},
     "output_type": "execute_result"
    }
   ],
   "source": [
    "school_data_complete.head()"
   ]
  },
  {
   "cell_type": "code",
   "execution_count": 90,
   "metadata": {},
   "outputs": [
    {
     "name": "stdout",
     "output_type": "stream",
     "text": "SCHOOL DISTRICT SUMMARY\n___________________________________________________________________________________________________________________________________________________\n"
    },
    {
     "data": {
      "text/html": "<div>\n<style scoped>\n    .dataframe tbody tr th:only-of-type {\n        vertical-align: middle;\n    }\n\n    .dataframe tbody tr th {\n        vertical-align: top;\n    }\n\n    .dataframe thead th {\n        text-align: right;\n    }\n</style>\n<table border=\"1\" class=\"dataframe\">\n  <thead>\n    <tr style=\"text-align: right;\">\n      <th></th>\n      <th>Total Schools</th>\n      <th>Total Students</th>\n      <th>Total Budget</th>\n      <th>Average Math Score</th>\n      <th>Average Reading Score</th>\n      <th>% Passing Math</th>\n      <th>% Passing Reading</th>\n      <th>Overall Passing Rate</th>\n    </tr>\n  </thead>\n  <tbody>\n    <tr>\n      <th>0</th>\n      <td>15</td>\n      <td>39,170</td>\n      <td>$24,649,428.00</td>\n      <td>78.99</td>\n      <td>81.88</td>\n      <td>74.98%</td>\n      <td>85.81%</td>\n      <td>80.43</td>\n    </tr>\n  </tbody>\n</table>\n</div>",
      "text/plain": "   Total Schools Total Students    Total Budget Average Math Score  \\\n0             15         39,170  $24,649,428.00              78.99   \n\n  Average Reading Score % Passing Math % Passing Reading Overall Passing Rate  \n0                 81.88         74.98%            85.81%                80.43  "
     },
     "execution_count": 90,
     "metadata": {},
     "output_type": "execute_result"
    }
   ],
   "source": [
    "## SCHOOL DISTRICT SUMMARY\n",
    "## Generate high-level snapshot (in table form) of the district's key metrics\n",
    "\n",
    "# Calculate the total number of schools\n",
    "total_schools = school_data['School ID'].count()\n",
    "\n",
    "# Calculate the total number of students\n",
    "total_students = student_data['Student ID'].count()\n",
    "\n",
    "# Calculate the total budget\n",
    "total_budget = school_data['School Budget'].sum()\n",
    "\n",
    "# Calculate the average math score\n",
    "average_math_score = student_data['Math Score'].mean()\n",
    " \n",
    "# Calculate the average reading score\n",
    "average_reading_score = student_data['Reading Score'].mean()\n",
    "\n",
    "# Calculate the overall passing rate (overall average score), i.e. (avg. math score + avg. reading score)/2\n",
    "overall_passing_rate = (average_math_score + average_reading_score) / 2\n",
    "\n",
    "# Calculate the percentage of students with a passing math score (70 or greater)\n",
    "passing_math_score = student_data[student_data['Math Score'] >= 70]\n",
    "percent_passing_math = passing_math_score['Math Score'].count() / total_students\n",
    "\n",
    "# Calculate the percentage of students with a passing reading score (70 or greater)\n",
    "passing_reading_score = student_data[student_data['Reading Score'] >= 70]\n",
    "percent_passing_reading = passing_reading_score['Reading Score'].count() / total_students\n",
    "\n",
    "# Create a summary dataframe to hold the above results\n",
    "school_district_summary = pd.DataFrame([(total_schools, total_students, total_budget, average_math_score, average_reading_score, percent_passing_math, percent_passing_reading, overall_passing_rate)], columns=['Total Schools','Total Students','Total Budget','Average Math Score','Average Reading Score', '% Passing Math','% Passing Reading', 'Overall Passing Rate'])\n",
    "\n",
    "# Round the percentage column to two decimal points in the summary data frame\n",
    "school_district_summary['% Passing Math'] = school_district_summary['% Passing Math'].map(\"{:.2%}\".format)\n",
    "school_district_summary['% Passing Reading'] = school_district_summary['% Passing Reading'].map(\"{:.2%}\".format)\n",
    "\n",
    "# Format the remaining stats to display the numbers cleanly\n",
    "school_district_summary['Total Students'] = school_district_summary['Total Students'].map(\"{:,}\".format)\n",
    "school_district_summary['Total Budget'] = school_district_summary['Total Budget'].map(\"${:,.2f}\".format)\n",
    "school_district_summary['Average Math Score'] = school_district_summary['Average Math Score'].map(\"{:.2f}\".format)\n",
    "school_district_summary['Average Reading Score'] = school_district_summary['Average Reading Score'].map(\"{:.2f}\".format)\n",
    "school_district_summary['Overall Passing Rate'] = school_district_summary['Overall Passing Rate'].map(\"{:.2f}\".format)\n",
    "\n",
    "# Display School District Summary data frame \n",
    "print(f\"SCHOOL DISTRICT SUMMARY\")\n",
    "print(f\"_\" * 147)\n",
    "school_district_summary"
   ]
  },
  {
   "cell_type": "code",
   "execution_count": 133,
   "metadata": {},
   "outputs": [
    {
     "data": {
      "text/html": "<div>\n<style scoped>\n    .dataframe tbody tr th:only-of-type {\n        vertical-align: middle;\n    }\n\n    .dataframe tbody tr th {\n        vertical-align: top;\n    }\n\n    .dataframe thead th {\n        text-align: right;\n    }\n</style>\n<table border=\"1\" class=\"dataframe\">\n  <thead>\n    <tr style=\"text-align: right;\">\n      <th></th>\n      <th>School Type</th>\n      <th>Total Students</th>\n      <th>Total School Budget</th>\n      <th>Per Student Budget</th>\n      <th>Average Math Score</th>\n      <th>Average Reading Score</th>\n      <th>% Passing Math</th>\n      <th>% Passing Reading</th>\n      <th>% Overall Passing Rate</th>\n    </tr>\n    <tr>\n      <th>School Name</th>\n      <th></th>\n      <th></th>\n      <th></th>\n      <th></th>\n      <th></th>\n      <th></th>\n      <th></th>\n      <th></th>\n      <th></th>\n    </tr>\n  </thead>\n  <tbody>\n    <tr>\n      <th>Bailey High School</th>\n      <td>District</td>\n      <td>4,976</td>\n      <td>$3,124,928.00</td>\n      <td>$628.00</td>\n      <td>77.05</td>\n      <td>81.03</td>\n      <td>66.68%</td>\n      <td>81.93%</td>\n      <td>74.31%</td>\n    </tr>\n    <tr>\n      <th>Cabrera High School</th>\n      <td>Charter</td>\n      <td>1,858</td>\n      <td>$1,081,356.00</td>\n      <td>$582.00</td>\n      <td>83.06</td>\n      <td>83.98</td>\n      <td>94.13%</td>\n      <td>97.04%</td>\n      <td>95.59%</td>\n    </tr>\n    <tr>\n      <th>Figueroa High School</th>\n      <td>District</td>\n      <td>2,949</td>\n      <td>$1,884,411.00</td>\n      <td>$639.00</td>\n      <td>76.71</td>\n      <td>81.16</td>\n      <td>65.99%</td>\n      <td>80.74%</td>\n      <td>73.36%</td>\n    </tr>\n    <tr>\n      <th>Ford High School</th>\n      <td>District</td>\n      <td>2,739</td>\n      <td>$1,763,916.00</td>\n      <td>$644.00</td>\n      <td>77.10</td>\n      <td>80.75</td>\n      <td>68.31%</td>\n      <td>79.30%</td>\n      <td>73.80%</td>\n    </tr>\n    <tr>\n      <th>Griffin High School</th>\n      <td>Charter</td>\n      <td>1,468</td>\n      <td>$917,500.00</td>\n      <td>$625.00</td>\n      <td>83.35</td>\n      <td>83.82</td>\n      <td>93.39%</td>\n      <td>97.14%</td>\n      <td>95.27%</td>\n    </tr>\n    <tr>\n      <th>Hernandez High School</th>\n      <td>District</td>\n      <td>4,635</td>\n      <td>$3,022,020.00</td>\n      <td>$652.00</td>\n      <td>77.29</td>\n      <td>80.93</td>\n      <td>66.75%</td>\n      <td>80.86%</td>\n      <td>73.81%</td>\n    </tr>\n    <tr>\n      <th>Holden High School</th>\n      <td>Charter</td>\n      <td>427</td>\n      <td>$248,087.00</td>\n      <td>$581.00</td>\n      <td>83.80</td>\n      <td>83.81</td>\n      <td>92.51%</td>\n      <td>96.25%</td>\n      <td>94.38%</td>\n    </tr>\n    <tr>\n      <th>Huang High School</th>\n      <td>District</td>\n      <td>2,917</td>\n      <td>$1,910,635.00</td>\n      <td>$655.00</td>\n      <td>76.63</td>\n      <td>81.18</td>\n      <td>65.68%</td>\n      <td>81.32%</td>\n      <td>73.50%</td>\n    </tr>\n    <tr>\n      <th>Johnson High School</th>\n      <td>District</td>\n      <td>4,761</td>\n      <td>$3,094,650.00</td>\n      <td>$650.00</td>\n      <td>77.07</td>\n      <td>80.97</td>\n      <td>66.06%</td>\n      <td>81.22%</td>\n      <td>73.64%</td>\n    </tr>\n    <tr>\n      <th>Pena High School</th>\n      <td>Charter</td>\n      <td>962</td>\n      <td>$585,858.00</td>\n      <td>$609.00</td>\n      <td>83.84</td>\n      <td>84.04</td>\n      <td>94.59%</td>\n      <td>95.95%</td>\n      <td>95.27%</td>\n    </tr>\n    <tr>\n      <th>Rodriguez High School</th>\n      <td>District</td>\n      <td>3,999</td>\n      <td>$2,547,363.00</td>\n      <td>$637.00</td>\n      <td>76.84</td>\n      <td>80.74</td>\n      <td>66.37%</td>\n      <td>80.22%</td>\n      <td>73.29%</td>\n    </tr>\n    <tr>\n      <th>Shelton High School</th>\n      <td>Charter</td>\n      <td>1,761</td>\n      <td>$1,056,600.00</td>\n      <td>$600.00</td>\n      <td>83.36</td>\n      <td>83.73</td>\n      <td>93.87%</td>\n      <td>95.85%</td>\n      <td>94.86%</td>\n    </tr>\n    <tr>\n      <th>Thomas High School</th>\n      <td>Charter</td>\n      <td>1,635</td>\n      <td>$1,043,130.00</td>\n      <td>$638.00</td>\n      <td>83.42</td>\n      <td>83.85</td>\n      <td>93.27%</td>\n      <td>97.31%</td>\n      <td>95.29%</td>\n    </tr>\n    <tr>\n      <th>Wilson High School</th>\n      <td>Charter</td>\n      <td>2,283</td>\n      <td>$1,319,574.00</td>\n      <td>$578.00</td>\n      <td>83.27</td>\n      <td>83.99</td>\n      <td>93.87%</td>\n      <td>96.54%</td>\n      <td>95.20%</td>\n    </tr>\n    <tr>\n      <th>Wright High School</th>\n      <td>Charter</td>\n      <td>1,800</td>\n      <td>$1,049,400.00</td>\n      <td>$583.00</td>\n      <td>83.68</td>\n      <td>83.95</td>\n      <td>93.33%</td>\n      <td>96.61%</td>\n      <td>94.97%</td>\n    </tr>\n  </tbody>\n</table>\n</div>",
      "text/plain": "                      School Type Total Students Total School Budget  \\\nSchool Name                                                            \nBailey High School       District          4,976       $3,124,928.00   \nCabrera High School       Charter          1,858       $1,081,356.00   \nFigueroa High School     District          2,949       $1,884,411.00   \nFord High School         District          2,739       $1,763,916.00   \nGriffin High School       Charter          1,468         $917,500.00   \nHernandez High School    District          4,635       $3,022,020.00   \nHolden High School        Charter            427         $248,087.00   \nHuang High School        District          2,917       $1,910,635.00   \nJohnson High School      District          4,761       $3,094,650.00   \nPena High School          Charter            962         $585,858.00   \nRodriguez High School    District          3,999       $2,547,363.00   \nShelton High School       Charter          1,761       $1,056,600.00   \nThomas High School        Charter          1,635       $1,043,130.00   \nWilson High School        Charter          2,283       $1,319,574.00   \nWright High School        Charter          1,800       $1,049,400.00   \n\n                      Per Student Budget Average Math Score  \\\nSchool Name                                                   \nBailey High School               $628.00              77.05   \nCabrera High School              $582.00              83.06   \nFigueroa High School             $639.00              76.71   \nFord High School                 $644.00              77.10   \nGriffin High School              $625.00              83.35   \nHernandez High School            $652.00              77.29   \nHolden High School               $581.00              83.80   \nHuang High School                $655.00              76.63   \nJohnson High School              $650.00              77.07   \nPena High School                 $609.00              83.84   \nRodriguez High School            $637.00              76.84   \nShelton High School              $600.00              83.36   \nThomas High School               $638.00              83.42   \nWilson High School               $578.00              83.27   \nWright High School               $583.00              83.68   \n\n                      Average Reading Score % Passing Math % Passing Reading  \\\nSchool Name                                                                    \nBailey High School                    81.03         66.68%            81.93%   \nCabrera High School                   83.98         94.13%            97.04%   \nFigueroa High School                  81.16         65.99%            80.74%   \nFord High School                      80.75         68.31%            79.30%   \nGriffin High School                   83.82         93.39%            97.14%   \nHernandez High School                 80.93         66.75%            80.86%   \nHolden High School                    83.81         92.51%            96.25%   \nHuang High School                     81.18         65.68%            81.32%   \nJohnson High School                   80.97         66.06%            81.22%   \nPena High School                      84.04         94.59%            95.95%   \nRodriguez High School                 80.74         66.37%            80.22%   \nShelton High School                   83.73         93.87%            95.85%   \nThomas High School                    83.85         93.27%            97.31%   \nWilson High School                    83.99         93.87%            96.54%   \nWright High School                    83.95         93.33%            96.61%   \n\n                      % Overall Passing Rate  \nSchool Name                                   \nBailey High School                    74.31%  \nCabrera High School                   95.59%  \nFigueroa High School                  73.36%  \nFord High School                      73.80%  \nGriffin High School                   95.27%  \nHernandez High School                 73.81%  \nHolden High School                    94.38%  \nHuang High School                     73.50%  \nJohnson High School                   73.64%  \nPena High School                      95.27%  \nRodriguez High School                 73.29%  \nShelton High School                   94.86%  \nThomas High School                    95.29%  \nWilson High School                    95.20%  \nWright High School                    94.97%  "
     },
     "execution_count": 133,
     "metadata": {},
     "output_type": "execute_result"
    }
   ],
   "source": [
    "## SCHOOL  SUMMARY\n",
    "## Create an overview table that summarizes key metrics about each school\n",
    "\n",
    "# Group the merged data frame by Schools to run analysis on each School\n",
    "schools_grouped = school_data_complete.groupby(['School Name'])\n",
    "\n",
    "# Get the type of school\n",
    "school_type = schools_grouped['School Type'].max()\n",
    "\n",
    "# Calculate the total number of students in the school\n",
    "total_school_students = schools_grouped['Student ID'].count()\n",
    "\n",
    "# Calculate the total school budget\n",
    "total_school_budget = schools_grouped['School Budget'].max()\n",
    "\n",
    "# Calculate the per student budget for each school\n",
    "per_student_school_budget = total_school_budget / total_school_students\n",
    "\n",
    "# Calculate the average math score for each school\n",
    "average_school_math_score = schools_grouped['Math Score'].mean()\n",
    "\n",
    "# Calculate the average reading score for each school\n",
    "average_school_reading_score = schools_grouped['Reading Score'].mean() \n",
    "\n",
    "# Group the merged data frame by Schools once again, but based on passing math scores 70 or above\n",
    "school_passing_math_score = school_data_complete[school_data_complete['Math Score'] >= 70].groupby(['School Name'])\n",
    "# Calculate the % passing math score for each school\n",
    "percent_school_passing_math_score = school_passing_math_score['Student ID'].count() / total_school_students\n",
    "\n",
    "# Group the merged data frame by Schools once again, but based on passing reading scores 70 or above\n",
    "school_passing_reading_score = school_data_complete[school_data_complete['Reading Score'] >= 70].groupby(['School Name'])\n",
    "# Calculate the % reading score for each school\n",
    "percent_school_passing_reading_score = school_passing_reading_score['Student ID'].count() / total_school_students\n",
    "\n",
    "# Calculate the overall passing rate for each school (average of the above two)\n",
    "overall_school_passing_rate = (percent_school_passing_math_score + percent_school_passing_reading_score) / 2\n",
    "\n",
    "# Save all of the school metrics to a Dictionary\n",
    "school_metrics_summary = pd.DataFrame({ 'School Type': school_type, 'Total Students': total_school_students, 'Total School Budget': total_school_budget, 'Per Student Budget': per_student_school_budget, 'Average Math Score': average_school_math_score, 'Average Reading Score': average_school_reading_score, '% Passing Math': percent_school_passing_math_score, '% Passing Reading': percent_school_passing_reading_score, '% Overall Passing Rate': overall_school_passing_rate} )\n",
    "\n",
    "# Format the stats to display the numbers cleanly\n",
    "school_metrics_summary['Total Students'] = school_metrics_summary['Total Students'].map(\"{:,}\".format)\n",
    "school_metrics_summary['Total School Budget'] = school_metrics_summary['Total School Budget'].map(\"${:,.2f}\".format)\n",
    "school_metrics_summary['Per Student Budget'] = school_metrics_summary['Per Student Budget'].map(\"${:,.2f}\".format)\n",
    "school_metrics_summary['Average Math Score'] = school_metrics_summary['Average Math Score'].map(\"{:.2f}\".format)\n",
    "school_metrics_summary['Average Reading Score'] = school_metrics_summary['Average Reading Score'].map(\"{:.2f}\".format)\n",
    "school_metrics_summary['% Passing Math'] = school_metrics_summary['% Passing Math'].map(\"{:.2%}\".format)\n",
    "school_metrics_summary['% Passing Reading'] = school_metrics_summary['% Passing Reading'].map(\"{:.2%}\".format)\n",
    "school_metrics_summary['% Overall Passing Rate'] = school_metrics_summary['% Overall Passing Rate'].map(\"{:.2%}\".format)\n",
    "\n",
    "school_metrics_summary"
   ]
  },
  {
   "cell_type": "code",
   "execution_count": null,
   "metadata": {},
   "outputs": [],
   "source": []
  }
 ]
}