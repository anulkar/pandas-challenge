{
 "nbformat": 4,
 "nbformat_minor": 2,
 "metadata": {
  "language_info": {
   "name": "python",
   "codemirror_mode": {
    "name": "ipython",
    "version": 3
   },
   "version": "3.7.5-final"
  },
  "orig_nbformat": 2,
  "file_extension": ".py",
  "mimetype": "text/x-python",
  "name": "python",
  "npconvert_exporter": "python",
  "pygments_lexer": "ipython3",
  "version": 3,
  "kernelspec": {
   "name": "python37564bitpythondatacondac30bd6fcf4694af7948ebff9c485f105",
   "display_name": "Python 3.7.5 64-bit ('PythonData': conda)"
  }
 },
 "cells": [
  {
   "cell_type": "code",
   "execution_count": 115,
   "metadata": {},
   "outputs": [],
   "source": [
    "# Dependencies and Setup\n",
    "import pandas as pd\n",
    "\n",
    "# CSV file to load\n",
    "file_to_load = \"Resources/purchase_data.csv\"\n",
    "\n",
    "# Read Purchasing Data File and store into Pandas data frame\n",
    "purchase_data = pd.read_csv(file_to_load)"
   ]
  },
  {
   "cell_type": "code",
   "execution_count": 116,
   "metadata": {},
   "outputs": [
    {
     "name": "stdout",
     "output_type": "stream",
     "text": "PLAYER COUNT\n______________________________\n\nTotal Number of Players: 576\n"
    }
   ],
   "source": [
    "# Get the count of total (unique) players and display them \n",
    "player_count = purchase_data['SN'].nunique()\n",
    "print(f\"PLAYER COUNT\")\n",
    "print(f\"_\" * 30)\n",
    "print(f\"\\nTotal Number of Players: {player_count}\")"
   ]
  },
  {
   "cell_type": "code",
   "execution_count": 117,
   "metadata": {},
   "outputs": [
    {
     "name": "stdout",
     "output_type": "stream",
     "text": "PURCHASE ANALYSIS\n_____________________________________________________________________________\n"
    },
    {
     "data": {
      "text/html": "<div>\n<style scoped>\n    .dataframe tbody tr th:only-of-type {\n        vertical-align: middle;\n    }\n\n    .dataframe tbody tr th {\n        vertical-align: top;\n    }\n\n    .dataframe thead th {\n        text-align: right;\n    }\n</style>\n<table border=\"1\" class=\"dataframe\">\n  <thead>\n    <tr style=\"text-align: right;\">\n      <th></th>\n      <th>Number of Unique Items</th>\n      <th>Average Price</th>\n      <th>Number of Purchases</th>\n      <th>Total Revenue</th>\n    </tr>\n  </thead>\n  <tbody>\n    <tr>\n      <th>0</th>\n      <td>183</td>\n      <td>$3.05</td>\n      <td>780</td>\n      <td>$2,379.77</td>\n    </tr>\n  </tbody>\n</table>\n</div>",
      "text/plain": "   Number of Unique Items Average Price  Number of Purchases Total Revenue\n0                     183         $3.05                  780     $2,379.77"
     },
     "execution_count": 117,
     "metadata": {},
     "output_type": "execute_result"
    }
   ],
   "source": [
    "# Run basic calculations on the data frame to come up with a total purchase analysis \n",
    "# Calculate number of unique items, average purchase price, total number of purchases and total revenue\n",
    "unique_items = purchase_data['Item ID'].nunique()\n",
    "average_price = purchase_data['Price'].mean()\n",
    "total_purchases = purchase_data['Purchase ID'].nunique()\n",
    "total_revenue = purchase_data['Price'].sum()\n",
    "\n",
    "# Create a summary data frame to hold the analyzed results\n",
    "purchase_analysis = [(unique_items, average_price, total_purchases, total_revenue)]\n",
    "purchase_summary = pd.DataFrame(purchase_analysis, columns=['Number of Unique Items','Average Price','Number of Purchases','Total Revenue'])\n",
    "\n",
    "# Format the average price and total revenue values\n",
    "purchase_summary['Average Price'] = purchase_summary['Average Price'].map(\"${:.2f}\".format)\n",
    "purchase_summary['Total Revenue'] = purchase_summary['Total Revenue'].map(\"${:,.2f}\".format)\n",
    "\n",
    "# Display Purchase Analysis Summary data frame \n",
    "print(f\"PURCHASE ANALYSIS\")\n",
    "print(f\"_\" * 77)\n",
    "purchase_summary"
   ]
  },
  {
   "cell_type": "code",
   "execution_count": 118,
   "metadata": {},
   "outputs": [
    {
     "name": "stdout",
     "output_type": "stream",
     "text": "GENDER DEMOGRAPHICS\n_____________________________________________________\n"
    },
    {
     "data": {
      "text/html": "<div>\n<style scoped>\n    .dataframe tbody tr th:only-of-type {\n        vertical-align: middle;\n    }\n\n    .dataframe tbody tr th {\n        vertical-align: top;\n    }\n\n    .dataframe thead th {\n        text-align: right;\n    }\n</style>\n<table border=\"1\" class=\"dataframe\">\n  <thead>\n    <tr style=\"text-align: right;\">\n      <th></th>\n      <th>Gender</th>\n      <th>Percentage of Players</th>\n    </tr>\n  </thead>\n  <tbody>\n    <tr>\n      <th>Male</th>\n      <td>484</td>\n      <td>84.03%</td>\n    </tr>\n    <tr>\n      <th>Female</th>\n      <td>81</td>\n      <td>14.06%</td>\n    </tr>\n    <tr>\n      <th>Other / Non-Disclosed</th>\n      <td>11</td>\n      <td>1.91%</td>\n    </tr>\n  </tbody>\n</table>\n</div>",
      "text/plain": "                       Gender Percentage of Players\nMale                      484                84.03%\nFemale                     81                14.06%\nOther / Non-Disclosed      11                 1.91%"
     },
     "execution_count": 118,
     "metadata": {},
     "output_type": "execute_result"
    }
   ],
   "source": [
    "# De-dup data frame so we can get a new data frame of unique players only\n",
    "unique_players = purchase_data.drop_duplicates(subset='SN')\n",
    "\n",
    "# Get count of players based on their gender\n",
    "gender_counts = unique_players['Gender'].value_counts()\n",
    "\n",
    "# Save gender counts to a new summary data frame\n",
    "gender_summary = pd.DataFrame(gender_counts)\n",
    "\n",
    "# Calculate the percentage of players for each gender\n",
    "gender_summary['Percentage of Players'] = gender_summary['Gender'] / gender_summary['Gender'].sum()\n",
    "\n",
    "# Round the percentage column to two decimal points in the summary data frame\n",
    "gender_summary['Percentage of Players'] = gender_summary['Percentage of Players'].map(\"{:.2%}\".format)\n",
    "\n",
    "# Display Gender Demographics Summary data frame \n",
    "print(f\"GENDER DEMOGRAPHICS\")\n",
    "print(f\"_\" * 53)\n",
    "gender_summary"
   ]
  },
  {
   "cell_type": "code",
   "execution_count": 127,
   "metadata": {},
   "outputs": [
    {
     "name": "stdout",
     "output_type": "stream",
     "text": "PURCHASE ANALYSIS (BY GENDER)\n___________________________________________________________________________________________________________________\n"
    },
    {
     "data": {
      "text/html": "<div>\n<style scoped>\n    .dataframe tbody tr th:only-of-type {\n        vertical-align: middle;\n    }\n\n    .dataframe tbody tr th {\n        vertical-align: top;\n    }\n\n    .dataframe thead th {\n        text-align: right;\n    }\n</style>\n<table border=\"1\" class=\"dataframe\">\n  <thead>\n    <tr style=\"text-align: right;\">\n      <th></th>\n      <th>Purchase Count</th>\n      <th>Average Purchase Price</th>\n      <th>Total Purchase Value</th>\n      <th>Avg Total Purchase per Person</th>\n    </tr>\n    <tr>\n      <th>Gender</th>\n      <th></th>\n      <th></th>\n      <th></th>\n      <th></th>\n    </tr>\n  </thead>\n  <tbody>\n    <tr>\n      <th>Female</th>\n      <td>113</td>\n      <td>$3.20</td>\n      <td>$361.94</td>\n      <td>$4.47</td>\n    </tr>\n    <tr>\n      <th>Male</th>\n      <td>652</td>\n      <td>$3.02</td>\n      <td>$1,967.64</td>\n      <td>$4.07</td>\n    </tr>\n    <tr>\n      <th>Other / Non-Disclosed</th>\n      <td>15</td>\n      <td>$3.35</td>\n      <td>$50.19</td>\n      <td>$4.56</td>\n    </tr>\n  </tbody>\n</table>\n</div>",
      "text/plain": "                       Purchase Count Average Purchase Price  \\\nGender                                                         \nFemale                            113                  $3.20   \nMale                              652                  $3.02   \nOther / Non-Disclosed              15                  $3.35   \n\n                      Total Purchase Value Avg Total Purchase per Person  \nGender                                                                    \nFemale                             $361.94                         $4.47  \nMale                             $1,967.64                         $4.07  \nOther / Non-Disclosed               $50.19                         $4.56  "
     },
     "execution_count": 127,
     "metadata": {},
     "output_type": "execute_result"
    }
   ],
   "source": [
    "# Group the original data frame by Gender to run a Gender-based purchase analysis\n",
    "gender_demographics = purchase_data.groupby(['Gender'])\n",
    "\n",
    "# Calculate purchase count, average purchase price, total purchase value and average purchase total per person\n",
    "# These are all saved as Series data type\n",
    "purchase_count = gender_demographics['Purchase ID'].nunique()\n",
    "average_purchase_price = gender_demographics['Price'].mean()\n",
    "total_purchase_price = gender_demographics['Price'].sum()\n",
    "average_purchase_total_per_player = total_purchase_price / gender_counts\n",
    "\n",
    "# Save the purchase analyses Series' to a Dictionary\n",
    "purchase_analysis_by_gender = { 'Purchase Count': purchase_count, 'Average Purchase Price': average_purchase_price, 'Total Purchase Value': total_purchase_price, 'Avg Total Purchase per Person': average_purchase_total_per_player }\n",
    "\n",
    "# Create Purchase Analysis Summary data frame from the Dictionary\n",
    "purchase_summary_by_gender = pd.DataFrame(purchase_analysis_by_gender)\n",
    "\n",
    "# Format all the price columns in the data frame\n",
    "purchase_summary_by_gender['Average Purchase Price'] = purchase_summary_by_gender['Average Purchase Price'].map(\"${:.2f}\".format)\n",
    "purchase_summary_by_gender['Total Purchase Value'] = purchase_summary_by_gender['Total Purchase Value'].map(\"${:,.2f}\".format)\n",
    "purchase_summary_by_gender['Avg Total Purchase per Person'] = purchase_summary_by_gender['Avg Total Purchase per Person'].map(\"${:.2f}\".format)\n",
    "\n",
    "# Display Purchase Analysis Summary data frame\n",
    "print(f\"PURCHASE ANALYSIS (BY GENDER)\")\n",
    "print(f\"_\" * 114)\n",
    "purchase_summary_by_gender"
   ]
  },
  {
   "cell_type": "code",
   "execution_count": 120,
   "metadata": {},
   "outputs": [
    {
     "name": "stdout",
     "output_type": "stream",
     "text": "AGE DEMOGRAPHICS\n__________________________________________\n"
    },
    {
     "data": {
      "text/html": "<div>\n<style scoped>\n    .dataframe tbody tr th:only-of-type {\n        vertical-align: middle;\n    }\n\n    .dataframe tbody tr th {\n        vertical-align: top;\n    }\n\n    .dataframe thead th {\n        text-align: right;\n    }\n</style>\n<table border=\"1\" class=\"dataframe\">\n  <thead>\n    <tr style=\"text-align: right;\">\n      <th></th>\n      <th>Total Count</th>\n      <th>Percentage of Players</th>\n    </tr>\n  </thead>\n  <tbody>\n    <tr>\n      <th>20-24</th>\n      <td>258</td>\n      <td>44.79%</td>\n    </tr>\n    <tr>\n      <th>15-19</th>\n      <td>107</td>\n      <td>18.58%</td>\n    </tr>\n    <tr>\n      <th>25-29</th>\n      <td>77</td>\n      <td>13.37%</td>\n    </tr>\n    <tr>\n      <th>30-34</th>\n      <td>52</td>\n      <td>9.03%</td>\n    </tr>\n    <tr>\n      <th>35-39</th>\n      <td>31</td>\n      <td>5.38%</td>\n    </tr>\n    <tr>\n      <th>10-14</th>\n      <td>22</td>\n      <td>3.82%</td>\n    </tr>\n    <tr>\n      <th>&lt;10</th>\n      <td>17</td>\n      <td>2.95%</td>\n    </tr>\n    <tr>\n      <th>40+</th>\n      <td>12</td>\n      <td>2.08%</td>\n    </tr>\n  </tbody>\n</table>\n</div>",
      "text/plain": "       Total Count Percentage of Players\n20-24          258                44.79%\n15-19          107                18.58%\n25-29           77                13.37%\n30-34           52                 9.03%\n35-39           31                 5.38%\n10-14           22                 3.82%\n<10             17                 2.95%\n40+             12                 2.08%"
     },
     "execution_count": 120,
     "metadata": {},
     "output_type": "execute_result"
    }
   ],
   "source": [
    "# Establish bins for player ages\n",
    "max_age = unique_players['Age'].max()\n",
    "age_bins = [0, 9, 14, 19, 24, 29, 34, 39, max_age]\n",
    "age_categories = ['<10', '10-14', '15-19', '20-24', '25-29', '30-34', '35-39', '40+']\n",
    "\n",
    "# Categorize players using the age bins\n",
    "unique_players.loc[:,'Age Category'] = (pd.cut(unique_players.loc[:,'Age'], age_bins, labels=age_categories))\n",
    "\n",
    "# Calculate the total number of players by age group\n",
    "player_counts_by_age = unique_players['Age Category'].value_counts()\n",
    "\n",
    "# Create a summary data frame to hold the results\n",
    "age_summary_data = pd.DataFrame(player_counts_by_age)\n",
    "age_summary_data = age_summary_data.rename(columns={'Age Category': 'Total Count'})\n",
    "\n",
    "# Calculate the percentage of players by age group\n",
    "age_summary_data['Percentage of Players'] = age_summary_data['Total Count'] / age_summary_data['Total Count'].sum()\n",
    "\n",
    "# Round the percentage column to two decimal points in the summary data frame\n",
    "age_summary_data['Percentage of Players'] = age_summary_data['Percentage of Players'].map(\"{:.2%}\".format)\n",
    "\n",
    "# Display Age Demographics Summary data frame\n",
    "print(f\"AGE DEMOGRAPHICS\")\n",
    "print(f\"_\" * 42)\n",
    "age_summary_data"
   ]
  },
  {
   "cell_type": "code",
   "execution_count": 141,
   "metadata": {},
   "outputs": [
    {
     "name": "stdout",
     "output_type": "stream",
     "text": "PURCHASE ANALYSIS (BY AGE)\n_______________________________________________________________________________________________________\n"
    },
    {
     "data": {
      "text/html": "<div>\n<style scoped>\n    .dataframe tbody tr th:only-of-type {\n        vertical-align: middle;\n    }\n\n    .dataframe tbody tr th {\n        vertical-align: top;\n    }\n\n    .dataframe thead th {\n        text-align: right;\n    }\n</style>\n<table border=\"1\" class=\"dataframe\">\n  <thead>\n    <tr style=\"text-align: right;\">\n      <th></th>\n      <th>Purchase Count</th>\n      <th>Average Purchase Price</th>\n      <th>Total Purchase Value</th>\n      <th>Avg Total Purchase per Person</th>\n    </tr>\n    <tr>\n      <th>Age Ranges</th>\n      <th></th>\n      <th></th>\n      <th></th>\n      <th></th>\n    </tr>\n  </thead>\n  <tbody>\n    <tr>\n      <th>&lt;10</th>\n      <td>23</td>\n      <td>$3.35</td>\n      <td>$77.13</td>\n      <td>$4.54</td>\n    </tr>\n    <tr>\n      <th>10-14</th>\n      <td>28</td>\n      <td>$2.96</td>\n      <td>$82.78</td>\n      <td>$3.76</td>\n    </tr>\n    <tr>\n      <th>15-19</th>\n      <td>136</td>\n      <td>$3.04</td>\n      <td>$412.89</td>\n      <td>$3.86</td>\n    </tr>\n    <tr>\n      <th>20-24</th>\n      <td>365</td>\n      <td>$3.05</td>\n      <td>$1,114.06</td>\n      <td>$4.32</td>\n    </tr>\n    <tr>\n      <th>25-29</th>\n      <td>101</td>\n      <td>$2.90</td>\n      <td>$293.00</td>\n      <td>$3.81</td>\n    </tr>\n    <tr>\n      <th>30-34</th>\n      <td>73</td>\n      <td>$2.93</td>\n      <td>$214.00</td>\n      <td>$4.12</td>\n    </tr>\n    <tr>\n      <th>35-39</th>\n      <td>41</td>\n      <td>$3.60</td>\n      <td>$147.67</td>\n      <td>$4.76</td>\n    </tr>\n    <tr>\n      <th>40+</th>\n      <td>13</td>\n      <td>$2.94</td>\n      <td>$38.24</td>\n      <td>$3.19</td>\n    </tr>\n  </tbody>\n</table>\n</div>",
      "text/plain": "            Purchase Count Average Purchase Price Total Purchase Value  \\\nAge Ranges                                                               \n<10                     23                  $3.35               $77.13   \n10-14                   28                  $2.96               $82.78   \n15-19                  136                  $3.04              $412.89   \n20-24                  365                  $3.05            $1,114.06   \n25-29                  101                  $2.90              $293.00   \n30-34                   73                  $2.93              $214.00   \n35-39                   41                  $3.60              $147.67   \n40+                     13                  $2.94               $38.24   \n\n           Avg Total Purchase per Person  \nAge Ranges                                \n<10                                $4.54  \n10-14                              $3.76  \n15-19                              $3.86  \n20-24                              $4.32  \n25-29                              $3.81  \n30-34                              $4.12  \n35-39                              $4.76  \n40+                                $3.19  "
     },
     "execution_count": 141,
     "metadata": {},
     "output_type": "execute_result"
    }
   ],
   "source": [
    "# Establish bins for player ages\n",
    "max_age = purchase_data['Age'].max()\n",
    "age_bins = [0, 9, 14, 19, 24, 29, 34, 39, max_age]\n",
    "age_categories = ['<10', '10-14', '15-19', '20-24', '25-29', '30-34', '35-39', '40+']\n",
    "\n",
    "# Categorize players using the age bins\n",
    "purchase_data.loc[:,'Age Category'] = (pd.cut(purchase_data.loc[:,'Age'], age_bins, labels=age_categories))\n",
    "\n",
    "# Group the original data frame by Age to run an Age-based purchase analysis\n",
    "age_demographics = purchase_data.groupby(['Age Category'])\n",
    "\n",
    "# Calculate purchase count, average purchase price, total purchase value and average purchase total per person\n",
    "# These are all saved as Series data type\n",
    "purchase_count = age_demographics['Purchase ID'].nunique()\n",
    "average_purchase_price = age_demographics['Price'].mean()\n",
    "total_purchase_price = age_demographics['Price'].sum()\n",
    "average_purchase_total_per_player = total_purchase_price / player_counts_by_age\n",
    "\n",
    "# Save the purchase analyses Series' to a Dictionary\n",
    "purchase_analysis_by_age = { 'Purchase Count': purchase_count, 'Average Purchase Price': average_purchase_price, 'Total Purchase Value': total_purchase_price, 'Avg Total Purchase per Person': average_purchase_total_per_player }\n",
    "\n",
    "# Create Purchase Analysis Summary data frame from the Dictionary\n",
    "purchase_summary_by_age = pd.DataFrame(purchase_analysis_by_age)\n",
    "purchase_summary_by_age.index.names = ['Age Ranges']\n",
    "\n",
    "# Format all the price columns in the data frame\n",
    "purchase_summary_by_age['Average Purchase Price'] = purchase_summary_by_age['Average Purchase Price'].map(\"${:.2f}\".format)\n",
    "purchase_summary_by_age['Total Purchase Value'] = purchase_summary_by_age['Total Purchase Value'].map(\"${:,.2f}\".format)\n",
    "purchase_summary_by_age['Avg Total Purchase per Person'] = purchase_summary_by_age['Avg Total Purchase per Person'].map(\"${:.2f}\".format)\n",
    "\n",
    "# Display Purchase Analysis Summary data frame\n",
    "print(f\"PURCHASE ANALYSIS (BY AGE)\")\n",
    "print(f\"_\" * 103)\n",
    "purchase_summary_by_age"
   ]
  },
  {
   "cell_type": "code",
   "execution_count": null,
   "metadata": {},
   "outputs": [],
   "source": []
  }
 ]
}