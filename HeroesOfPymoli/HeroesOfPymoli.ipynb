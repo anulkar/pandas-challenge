{
 "nbformat": 4,
 "nbformat_minor": 2,
 "metadata": {
  "language_info": {
   "name": "python",
   "codemirror_mode": {
    "name": "ipython",
    "version": 3
   },
   "version": "3.7.4-final"
  },
  "orig_nbformat": 2,
  "file_extension": ".py",
  "mimetype": "text/x-python",
  "name": "python",
  "npconvert_exporter": "python",
  "pygments_lexer": "ipython3",
  "version": 3,
  "kernelspec": {
   "name": "python37464bitbaseconda935f42da8af44081a8949c6c83ee0939",
   "display_name": "Python 3.7.4 64-bit ('base': conda)"
  }
 },
 "cells": [
  {
   "cell_type": "code",
   "execution_count": 27,
   "metadata": {},
   "outputs": [],
   "source": [
    "# Dependencies and Setup\n",
    "import pandas as pd\n",
    "\n",
    "# CSV file to load\n",
    "file_to_load = \"Resources/purchase_data.csv\"\n",
    "\n",
    "# Read Purchase Data File and store into Pandas data frame\n",
    "purchase_data = pd.read_csv(file_to_load)"
   ]
  },
  {
   "cell_type": "code",
   "execution_count": 28,
   "metadata": {},
   "outputs": [
    {
     "name": "stdout",
     "output_type": "stream",
     "text": "PLAYER COUNT\n______________________________\n\nTotal Number of Players: 576\n"
    }
   ],
   "source": [
    "# Get count of total (unique) players and display them \n",
    "player_count = purchase_data['SN'].nunique()\n",
    "print(f\"PLAYER COUNT\")\n",
    "print(f\"_\" * 30)\n",
    "print(f\"\\nTotal Number of Players: {player_count}\")"
   ]
  },
  {
   "cell_type": "code",
   "execution_count": 31,
   "metadata": {},
   "outputs": [
    {
     "data": {
      "text/html": "<div>\n<style scoped>\n    .dataframe tbody tr th:only-of-type {\n        vertical-align: middle;\n    }\n\n    .dataframe tbody tr th {\n        vertical-align: top;\n    }\n\n    .dataframe thead th {\n        text-align: right;\n    }\n</style>\n<table border=\"1\" class=\"dataframe\">\n  <thead>\n    <tr style=\"text-align: right;\">\n      <th></th>\n      <th>Number of Unique Items</th>\n      <th>Average Price</th>\n      <th>Number of Purchases</th>\n      <th>Total Revenue</th>\n    </tr>\n  </thead>\n  <tbody>\n    <tr>\n      <td>0</td>\n      <td>183</td>\n      <td>$3.05</td>\n      <td>780</td>\n      <td>$2,379.77</td>\n    </tr>\n  </tbody>\n</table>\n</div>",
      "text/plain": "   Number of Unique Items Average Price  Number of Purchases Total Revenue\n0                     183         $3.05                  780     $2,379.77"
     },
     "execution_count": 31,
     "metadata": {},
     "output_type": "execute_result"
    }
   ],
   "source": [
    "# Run basic calculations on the data frame to come up with a purchase analysis \n",
    "\n",
    "# Calculate number of unique items, average purchase price, total number of purchases and total revenue\n",
    "unique_items = purchase_data['Item ID'].nunique()\n",
    "average_price = purchase_data['Price'].mean()\n",
    "total_purchases = purchase_data['Purchase ID'].nunique()\n",
    "total_revenue = purchase_data['Price'].sum()\n",
    "\n",
    "# Create a summary data frame to hold the analyzed results\n",
    "purchase_analysis = [(unique_items, average_price, total_purchases, total_revenue)]\n",
    "purchase_summary = pd.DataFrame(purchase_analysis, columns=[\"Number of Unique Items\",\"Average Price\",\"Number of Purchases\",\"Total Revenue\"])\n",
    "\n",
    "# Format the average price and total revenue values\n",
    "purchase_summary[\"Average Price\"] = purchase_summary[\"Average Price\"].map(\"${:.2f}\".format)\n",
    "purchase_summary[\"Total Revenue\"] = purchase_summary[\"Total Revenue\"].map(\"${:,.2f}\".format)\n",
    "\n",
    "# Display summary data frame \n",
    "purchase_summary"
   ]
  },
  {
   "cell_type": "code",
   "execution_count": null,
   "metadata": {},
   "outputs": [],
   "source": []
  }
 ]
}